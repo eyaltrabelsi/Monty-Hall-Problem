{
 "cells": [
  {
   "cell_type": "markdown",
   "metadata": {
    "slideshow": {
     "slide_type": "slide"
    }
   },
   "source": [
    "# Elegant Exception Handling\n",
    "## Eyal Trabelsi"
   ]
  },
  {
   "cell_type": "markdown",
   "metadata": {
    "slideshow": {
     "slide_type": "notes"
    }
   },
   "source": [
    "- thanks for coming out, I am Eyal I live in Tel Aviv and work for Salesforce.\n",
    "- and today I am going to talk to you about Elegent Exception Handling."
   ]
  },
  {
   "cell_type": "markdown",
   "metadata": {
    "slideshow": {
     "slide_type": "slide"
    }
   },
   "source": [
    "## Today Is About"
   ]
  },
  {
   "cell_type": "markdown",
   "metadata": {
    "slideshow": {
     "slide_type": "fragment"
    }
   },
   "source": [
    "- Correct and reliable code 💪\n"
   ]
  },
  {
   "cell_type": "markdown",
   "metadata": {
    "slideshow": {
     "slide_type": "fragment"
    }
   },
   "source": [
    "- Yet maintainable and  readable 🌺\n"
   ]
  },
  {
   "cell_type": "markdown",
   "metadata": {
    "slideshow": {
     "slide_type": "subslide"
    }
   },
   "source": [
    "## Not Covering "
   ]
  },
  {
   "cell_type": "markdown",
   "metadata": {
    "slideshow": {
     "slide_type": "fragment"
    }
   },
   "source": [
    "- PEP8 💅"
   ]
  },
  {
   "cell_type": "markdown",
   "metadata": {
    "slideshow": {
     "slide_type": "fragment"
    }
   },
   "source": [
    "- Performance implications ⌛\n"
   ]
  },
  {
   "cell_type": "markdown",
   "metadata": {
    "slideshow": {
     "slide_type": "fragment"
    }
   },
   "source": [
    "- Parallel/Concurrent 🧵"
   ]
  },
  {
   "cell_type": "markdown",
   "metadata": {
    "slideshow": {
     "slide_type": "slide"
    }
   },
   "source": [
    "## Restaurant Recommendation 🍔"
   ]
  },
  {
   "cell_type": "code",
   "execution_count": 3,
   "metadata": {
    "slideshow": {
     "slide_type": "skip"
    }
   },
   "outputs": [
    {
     "name": "stdout",
     "output_type": "stream",
     "text": [
      "Collecting typeguard\n",
      "  Downloading https://files.pythonhosted.org/packages/52/33/3755584541a18d954389447bfd5f9cb7fa20dfbf5094829aee4a103e580c/typeguard-2.9.1-py3-none-any.whl\n",
      "Collecting rollbar\n",
      "\u001b[?25l  Downloading https://files.pythonhosted.org/packages/52/7b/41528b3a96cbd0c45f7fa6e0fb8aa807ac01588fbac824cd670d75139a02/rollbar-0.15.0.tar.gz (50kB)\n",
      "\u001b[K     |████████████████████████████████| 51kB 403kB/s eta 0:00:01\n",
      "\u001b[?25hCollecting returns\n",
      "\u001b[?25l  Downloading https://files.pythonhosted.org/packages/a4/ca/4cf6bb34f15fb34430ee36341cdfaaf11db197f908334e380c72e3944fa9/returns-0.14.0-py3-none-any.whl (110kB)\n",
      "\u001b[K     |████████████████████████████████| 112kB 598kB/s eta 0:00:01\n",
      "\u001b[?25hRequirement already satisfied: requests>=0.12.1 in /Users/etrabelsi/.local/lib/python3.7/site-packages (from rollbar) (2.23.0)\n",
      "Requirement already satisfied: six>=1.9.0 in /Users/etrabelsi/.local/lib/python3.7/site-packages (from rollbar) (1.14.0)\n",
      "Collecting typing-extensions<4.0,>=3.7 (from returns)\n",
      "  Downloading https://files.pythonhosted.org/packages/0c/0e/3f026d0645d699e7320b59952146d56ad7c374e9cd72cd16e7c74e657a0f/typing_extensions-3.7.4.2-py3-none-any.whl\n",
      "Requirement already satisfied: idna<3,>=2.5 in /Users/etrabelsi/.local/lib/python3.7/site-packages (from requests>=0.12.1->rollbar) (2.9)\n",
      "Requirement already satisfied: certifi>=2017.4.17 in /Users/etrabelsi/opt/anaconda3/lib/python3.7/site-packages (from requests>=0.12.1->rollbar) (2019.9.11)\n",
      "Requirement already satisfied: urllib3!=1.25.0,!=1.25.1,<1.26,>=1.21.1 in /Users/etrabelsi/.local/lib/python3.7/site-packages (from requests>=0.12.1->rollbar) (1.25.9)\n",
      "Requirement already satisfied: chardet<4,>=3.0.2 in /Users/etrabelsi/.local/lib/python3.7/site-packages (from requests>=0.12.1->rollbar) (3.0.4)\n",
      "Building wheels for collected packages: rollbar\n",
      "  Building wheel for rollbar (setup.py) ... \u001b[?25ldone\n",
      "\u001b[?25h  Created wheel for rollbar: filename=rollbar-0.15.0-cp37-none-any.whl size=61686 sha256=689b684f42475609ff95244a51cadc17227e02dae134d39660daecef780148e2\n",
      "  Stored in directory: /Users/etrabelsi/Library/Caches/pip/wheels/1c/b5/b1/290546a7a87f78d5ce22b428d159bb4a783fb256168f9b552f\n",
      "Successfully built rollbar\n",
      "Installing collected packages: typeguard, rollbar, typing-extensions, returns\n",
      "Successfully installed returns-0.14.0 rollbar-0.15.0 typeguard-2.9.1 typing-extensions-3.7.4.2\n"
     ]
    }
   ],
   "source": [
    "! pip install typeguard rollbar returns"
   ]
  },
  {
   "cell_type": "code",
   "execution_count": null,
   "metadata": {
    "slideshow": {
     "slide_type": "skip"
    }
   },
   "outputs": [],
   "source": [
    "import contextlib\n",
    "import logging\n",
    "import pathlib\n",
    "from typing import Union\n",
    "\n",
    "import requests\n",
    "from typeguard import typechecked\n",
    "from bs4 import BeautifulSoup"
   ]
  },
  {
   "cell_type": "code",
   "execution_count": 4,
   "metadata": {
    "slideshow": {
     "slide_type": "skip"
    }
   },
   "outputs": [],
   "source": [
    "def _get_recommended_restaurant(user):\n",
    "    base_url = \"https://en.wikipedia.org/wiki\"\n",
    "    return requests.get(f\"{base_url}/{user}\").content\n",
    "\n",
    "def _get_user(path):\n",
    "    with open(path, 'r') as json_file:\n",
    "        return json.load(json_file)[\"user\"]\n",
    "\n",
    "def _pick_best_restaurant(restaurants):\n",
    "    pass"
   ]
  },
  {
   "cell_type": "code",
   "execution_count": 5,
   "metadata": {
    "slideshow": {
     "slide_type": "fragment"
    }
   },
   "outputs": [
    {
     "ename": "NameError",
     "evalue": "name 'json' is not defined",
     "output_type": "error",
     "traceback": [
      "\u001b[0;31m---------------------------------------------------------------------------\u001b[0m",
      "\u001b[0;31mNameError\u001b[0m                                 Traceback (most recent call last)",
      "\u001b[0;32m<ipython-input-5-d2d37e3056ce>\u001b[0m in \u001b[0;36m<module>\u001b[0;34m\u001b[0m\n\u001b[1;32m      3\u001b[0m     \u001b[0mcontent\u001b[0m \u001b[0;34m=\u001b[0m \u001b[0m_get_recommended_restaurant\u001b[0m\u001b[0;34m(\u001b[0m\u001b[0muser\u001b[0m\u001b[0;34m)\u001b[0m\u001b[0;34m\u001b[0m\u001b[0;34m\u001b[0m\u001b[0m\n\u001b[1;32m      4\u001b[0m \u001b[0;34m\u001b[0m\u001b[0m\n\u001b[0;32m----> 5\u001b[0;31m \u001b[0mget_food_recommendation\u001b[0m\u001b[0;34m(\u001b[0m\u001b[0;34m\"MY_AMAZING_FILE.json\"\u001b[0m\u001b[0;34m)\u001b[0m\u001b[0;34m\u001b[0m\u001b[0;34m\u001b[0m\u001b[0m\n\u001b[0m",
      "\u001b[0;32m<ipython-input-5-d2d37e3056ce>\u001b[0m in \u001b[0;36mget_food_recommendation\u001b[0;34m(path)\u001b[0m\n\u001b[1;32m      1\u001b[0m \u001b[0;32mdef\u001b[0m \u001b[0mget_food_recommendation\u001b[0m\u001b[0;34m(\u001b[0m\u001b[0mpath\u001b[0m\u001b[0;34m)\u001b[0m\u001b[0;34m:\u001b[0m\u001b[0;34m\u001b[0m\u001b[0;34m\u001b[0m\u001b[0m\n\u001b[0;32m----> 2\u001b[0;31m     \u001b[0muser\u001b[0m \u001b[0;34m=\u001b[0m \u001b[0m_get_user\u001b[0m\u001b[0;34m(\u001b[0m\u001b[0mpath\u001b[0m\u001b[0;34m)\u001b[0m\u001b[0;34m\u001b[0m\u001b[0;34m\u001b[0m\u001b[0m\n\u001b[0m\u001b[1;32m      3\u001b[0m     \u001b[0mcontent\u001b[0m \u001b[0;34m=\u001b[0m \u001b[0m_get_recommended_restaurant\u001b[0m\u001b[0;34m(\u001b[0m\u001b[0muser\u001b[0m\u001b[0;34m)\u001b[0m\u001b[0;34m\u001b[0m\u001b[0;34m\u001b[0m\u001b[0m\n\u001b[1;32m      4\u001b[0m \u001b[0;34m\u001b[0m\u001b[0m\n\u001b[1;32m      5\u001b[0m \u001b[0mget_food_recommendation\u001b[0m\u001b[0;34m(\u001b[0m\u001b[0;34m\"MY_AMAZING_FILE.json\"\u001b[0m\u001b[0;34m)\u001b[0m\u001b[0;34m\u001b[0m\u001b[0;34m\u001b[0m\u001b[0m\n",
      "\u001b[0;32m<ipython-input-4-13c95cc6556a>\u001b[0m in \u001b[0;36m_get_user\u001b[0;34m(path)\u001b[0m\n\u001b[1;32m     13\u001b[0m \u001b[0;32mdef\u001b[0m \u001b[0m_get_user\u001b[0m\u001b[0;34m(\u001b[0m\u001b[0mpath\u001b[0m\u001b[0;34m)\u001b[0m\u001b[0;34m:\u001b[0m\u001b[0;34m\u001b[0m\u001b[0;34m\u001b[0m\u001b[0m\n\u001b[1;32m     14\u001b[0m     \u001b[0;32mwith\u001b[0m \u001b[0mopen\u001b[0m\u001b[0;34m(\u001b[0m\u001b[0mpath\u001b[0m\u001b[0;34m,\u001b[0m \u001b[0;34m'r'\u001b[0m\u001b[0;34m)\u001b[0m \u001b[0;32mas\u001b[0m \u001b[0mjson_file\u001b[0m\u001b[0;34m:\u001b[0m\u001b[0;34m\u001b[0m\u001b[0;34m\u001b[0m\u001b[0m\n\u001b[0;32m---> 15\u001b[0;31m         \u001b[0;32mreturn\u001b[0m \u001b[0mjson\u001b[0m\u001b[0;34m.\u001b[0m\u001b[0mload\u001b[0m\u001b[0;34m(\u001b[0m\u001b[0mjson_file\u001b[0m\u001b[0;34m)\u001b[0m\u001b[0;34m[\u001b[0m\u001b[0;34m\"user\"\u001b[0m\u001b[0;34m]\u001b[0m\u001b[0;34m\u001b[0m\u001b[0;34m\u001b[0m\u001b[0m\n\u001b[0m",
      "\u001b[0;31mNameError\u001b[0m: name 'json' is not defined"
     ]
    }
   ],
   "source": [
    "def get_food_recommendation(path):\n",
    "    user = _get_user(path)\n",
    "    restaurants = _get_recommended_restaurant(user)\n",
    "    return _pick_best_restaurant(restaurants)\n",
    "    \n",
    "get_food_recommendation(\"MY_AMAZING_FILE.json\")"
   ]
  },
  {
   "cell_type": "markdown",
   "metadata": {
    "slideshow": {
     "slide_type": "notes"
    }
   },
   "source": [
    "\n",
    "- In our snippet we are going to bring country information from wikipedia.\n",
    "- As you can see the code itself is quite easy to understand\n",
    "\n",
    "\n",
    "- First we bring the user from a file\n",
    "- Then we bring relevant results from google\n",
    "- And lastly pick the best one\n"
   ]
  },
  {
   "cell_type": "markdown",
   "metadata": {
    "slideshow": {
     "slide_type": "subslide"
    }
   },
   "source": [
    "![](unicorn_rainbow.png)"
   ]
  },
  {
   "cell_type": "markdown",
   "metadata": {
    "slideshow": {
     "slide_type": "notes"
    }
   },
   "source": [
    "- We can be proud of ourself and we are basicly done\n"
   ]
  },
  {
   "cell_type": "markdown",
   "metadata": {
    "slideshow": {
     "slide_type": "subslide"
    }
   },
   "source": [
    "![](unicorn.png)"
   ]
  },
  {
   "cell_type": "markdown",
   "metadata": {
    "slideshow": {
     "slide_type": "notes"
    }
   },
   "source": [
    "- Until the errors and exceptions starts emerging.\n",
    "- We see here FileNotFoundException, KeyError,JSONDecodeError, AnotherExoticError and dozens of exceptions\n",
    "- As developers we want our program to keep working.\n",
    "- In other words we want to build a fault tolerant program\n",
    "- How fault tollerrant it is really depends whether its a mobile app or a banking system."
   ]
  },
  {
   "cell_type": "markdown",
   "metadata": {
    "slideshow": {
     "slide_type": "subslide"
    }
   },
   "source": [
    "- **Lesson 1:** We want to build a fault tolerant to a certain degree."
   ]
  },
  {
   "cell_type": "markdown",
   "metadata": {
    "slideshow": {
     "slide_type": "fragment"
    }
   },
   "source": [
    "![](bank_vs_facebook.jpg)"
   ]
  },
  {
   "cell_type": "markdown",
   "metadata": {
    "slideshow": {
     "slide_type": "notes"
    }
   },
   "source": [
    "- we want to build a fault tolerant (to a certain degree).\n",
    "- i am gonna show you how a naive handle exception would look like"
   ]
  },
  {
   "cell_type": "markdown",
   "metadata": {
    "slideshow": {
     "slide_type": "slide"
    }
   },
   "source": [
    "## Naive Exception Handling 👶"
   ]
  },
  {
   "cell_type": "code",
   "execution_count": 4,
   "metadata": {
    "slideshow": {
     "slide_type": "fragment"
    }
   },
   "outputs": [],
   "source": [
    "def get_food_recommendation(path):\n",
    "    try:\n",
    "        user = _get_user(path)\n",
    "        restaurants = _get_recommended_restaurant(user)\n",
    "        return _pick_best_restaurant(restaurants)\n",
    "    except BaseException:\n",
    "        logging.error(\"VERY UNINFORMATIVE INFORMATION\")\n",
    "        raise BaseException(\"VERY UNINFORMATIVE INFORMATION\")\n",
    "\n",
    "get_food_recommendation(\"MY_AMAZING_FILE.json\")"
   ]
  },
  {
   "cell_type": "markdown",
   "metadata": {
    "slideshow": {
     "slide_type": "notes"
    }
   },
   "source": [
    "1.\n",
    "   - This is the same snippet with a naive exception handling.\n",
    "   - Basicly its the same, we just catching exceptions and logging it away.\n",
    "\n",
    "\n",
    "2.\n",
    "   - This code is pretty bad and unfortunately this kind of code is pretty common  as well.\n",
    "   - The First issue is that there are some exceptions we dont want to catch, such as KeyboardInterrupt (as we want the user to be able to kill the program) or SynatxError (as we want our code to be valid).\n",
    "   - Secondly, this code is really hard to recover from, the invoker of this function can't really destinguise between the diffrent types of errors and allow to recover from certain expected issues.\n",
    "   - For example, if we have flaky internet i would like to retry, but if a file is actually missing I dont.\n",
    "   - So this code is not really more reliable.\n",
    "  \n",
    "  \n",
    "3.\n",
    "   - Next we will take a more pragmatic approach.\n",
    "   - We will start handle relavent exceptions only.\n",
    "   - We will allow to recover from certain expected issues."
   ]
  },
  {
   "cell_type": "markdown",
   "metadata": {
    "slideshow": {
     "slide_type": "fragment"
    }
   },
   "source": [
    "![](https://www.pngitem.com/pimgs/m/4-48557_scared-emoji-png-android-shock-emoji-png-transparent.png)"
   ]
  },
  {
   "cell_type": "markdown",
   "metadata": {},
   "source": [
    "## Not So Naive Exception Handling 👦\n"
   ]
  },
  {
   "cell_type": "code",
   "execution_count": 6,
   "metadata": {
    "slideshow": {
     "slide_type": "subslide"
    }
   },
   "outputs": [
    {
     "ename": "NameError",
     "evalue": "name 'FileNotFoundException' is not defined",
     "output_type": "error",
     "traceback": [
      "\u001b[0;31m---------------------------------------------------------------------------\u001b[0m",
      "\u001b[0;31mNameError\u001b[0m                                 Traceback (most recent call last)",
      "\u001b[0;32m<ipython-input-6-16480ecbd29d>\u001b[0m in \u001b[0;36mget_food_recommendation\u001b[0;34m(path)\u001b[0m\n\u001b[1;32m      2\u001b[0m     \u001b[0;32mtry\u001b[0m\u001b[0;34m:\u001b[0m\u001b[0;34m\u001b[0m\u001b[0;34m\u001b[0m\u001b[0m\n\u001b[0;32m----> 3\u001b[0;31m         \u001b[0muser\u001b[0m \u001b[0;34m=\u001b[0m \u001b[0m_get_user\u001b[0m\u001b[0;34m(\u001b[0m\u001b[0mpath\u001b[0m\u001b[0;34m)\u001b[0m\u001b[0;34m\u001b[0m\u001b[0;34m\u001b[0m\u001b[0m\n\u001b[0m\u001b[1;32m      4\u001b[0m     \u001b[0;32mexcept\u001b[0m \u001b[0mFileNotFoundException\u001b[0m\u001b[0;34m:\u001b[0m\u001b[0;34m\u001b[0m\u001b[0;34m\u001b[0m\u001b[0m\n",
      "\u001b[0;32m<ipython-input-4-13c95cc6556a>\u001b[0m in \u001b[0;36m_get_user\u001b[0;34m(path)\u001b[0m\n\u001b[1;32m     14\u001b[0m     \u001b[0;32mwith\u001b[0m \u001b[0mopen\u001b[0m\u001b[0;34m(\u001b[0m\u001b[0mpath\u001b[0m\u001b[0;34m,\u001b[0m \u001b[0;34m'r'\u001b[0m\u001b[0;34m)\u001b[0m \u001b[0;32mas\u001b[0m \u001b[0mjson_file\u001b[0m\u001b[0;34m:\u001b[0m\u001b[0;34m\u001b[0m\u001b[0;34m\u001b[0m\u001b[0m\n\u001b[0;32m---> 15\u001b[0;31m         \u001b[0;32mreturn\u001b[0m \u001b[0mjson\u001b[0m\u001b[0;34m.\u001b[0m\u001b[0mload\u001b[0m\u001b[0;34m(\u001b[0m\u001b[0mjson_file\u001b[0m\u001b[0;34m)\u001b[0m\u001b[0;34m[\u001b[0m\u001b[0;34m\"user\"\u001b[0m\u001b[0;34m]\u001b[0m\u001b[0;34m\u001b[0m\u001b[0;34m\u001b[0m\u001b[0m\n\u001b[0m",
      "\u001b[0;31mNameError\u001b[0m: name 'json' is not defined",
      "\nDuring handling of the above exception, another exception occurred:\n",
      "\u001b[0;31mNameError\u001b[0m                                 Traceback (most recent call last)",
      "\u001b[0;32m<ipython-input-6-16480ecbd29d>\u001b[0m in \u001b[0;36m<module>\u001b[0;34m\u001b[0m\n\u001b[1;32m     13\u001b[0m     \u001b[0mcontent\u001b[0m \u001b[0;34m=\u001b[0m \u001b[0m_get_recommended_restaurant\u001b[0m\u001b[0;34m(\u001b[0m\u001b[0muser\u001b[0m\u001b[0;34m)\u001b[0m\u001b[0;34m\u001b[0m\u001b[0;34m\u001b[0m\u001b[0m\n\u001b[1;32m     14\u001b[0m \u001b[0;34m\u001b[0m\u001b[0m\n\u001b[0;32m---> 15\u001b[0;31m \u001b[0mget_food_recommendation\u001b[0m\u001b[0;34m(\u001b[0m\u001b[0;34m\"MY_AMAZING_FILE.json\"\u001b[0m\u001b[0;34m)\u001b[0m\u001b[0;34m\u001b[0m\u001b[0;34m\u001b[0m\u001b[0m\n\u001b[0m",
      "\u001b[0;32m<ipython-input-6-16480ecbd29d>\u001b[0m in \u001b[0;36mget_food_recommendation\u001b[0;34m(path)\u001b[0m\n\u001b[1;32m      2\u001b[0m     \u001b[0;32mtry\u001b[0m\u001b[0;34m:\u001b[0m\u001b[0;34m\u001b[0m\u001b[0;34m\u001b[0m\u001b[0m\n\u001b[1;32m      3\u001b[0m         \u001b[0muser\u001b[0m \u001b[0;34m=\u001b[0m \u001b[0m_get_user\u001b[0m\u001b[0;34m(\u001b[0m\u001b[0mpath\u001b[0m\u001b[0;34m)\u001b[0m\u001b[0;34m\u001b[0m\u001b[0;34m\u001b[0m\u001b[0m\n\u001b[0;32m----> 4\u001b[0;31m     \u001b[0;32mexcept\u001b[0m \u001b[0mFileNotFoundException\u001b[0m\u001b[0;34m:\u001b[0m\u001b[0;34m\u001b[0m\u001b[0;34m\u001b[0m\u001b[0m\n\u001b[0m\u001b[1;32m      5\u001b[0m         \u001b[0mlogging\u001b[0m\u001b[0;34m.\u001b[0m\u001b[0merror\u001b[0m\u001b[0;34m(\u001b[0m\u001b[0;34m\"VERY UNINFORMATIVE INFORMATION\"\u001b[0m\u001b[0;34m)\u001b[0m\u001b[0;34m\u001b[0m\u001b[0;34m\u001b[0m\u001b[0m\n\u001b[1;32m      6\u001b[0m         \u001b[0;32mraise\u001b[0m\u001b[0;34m\u001b[0m\u001b[0;34m\u001b[0m\u001b[0m\n",
      "\u001b[0;31mNameError\u001b[0m: name 'FileNotFoundException' is not defined"
     ]
    }
   ],
   "source": [
    "def get_food_recommendation(path):\n",
    "    try:\n",
    "        user = _get_user(path)                \n",
    "    except FileNotFoundException:\n",
    "        logging.error(\"VERY UNINFORMATIVE INFORMATION\")\n",
    "        raise\n",
    "    except JSONDecodeError:\n",
    "        logging.error(\"VERY UNINFORMATIVE INFORMATION\")\n",
    "        raise\n",
    "    except KeyError:\n",
    "        user = \"default_user\"  \n",
    "    \n",
    "    resurants = _get_recommended_restaurant(user)\n",
    "    return _pick_best_restaurant(restaurants)\n",
    "    \n",
    "get_food_recommendation(\"MY_AMAZING_FILE.json\")"
   ]
  },
  {
   "cell_type": "markdown",
   "metadata": {
    "slideshow": {
     "slide_type": "fragment"
    }
   },
   "source": [
    "![](https://cdn.shopify.com/s/files/1/1061/1924/products/14_grande.png?v=1571606116)"
   ]
  },
  {
   "cell_type": "markdown",
   "metadata": {
    "slideshow": {
     "slide_type": "notes"
    }
   },
   "source": [
    "- In this snippet I am focusing in exceptions that can occur from the get_country method.\n",
    "\n",
    "- As a reminder we dont want to catch all exceptions types (SynataxError etc)  we will catch speicific exceptions and handle them\n",
    "\n",
    "- When a file does not exists or when the file is not a valid json we  raise FileNotFoundException and JSONDecodeError and log it away\n",
    "\n",
    "- We will reraise the same exact exception that occured instead raising a generic exception and allow the invoker to handle them diffrently.\n",
    "\n",
    "- Lastly when we have valid file json without country key we will use France as our default country since they have the best pasteries\n",
    "\n",
    "- Altough this code is far from pretty is much safer, we added deafault patiserie and  the invoker of this function can destinguise between the diffrent types of errors and handle them in a diffrent manner if needed."
   ]
  },
  {
   "cell_type": "markdown",
   "metadata": {
    "slideshow": {
     "slide_type": "subslide"
    }
   },
   "source": [
    "**Lesson 2:** Catch as specific of an error as you can. "
   ]
  },
  {
   "cell_type": "markdown",
   "metadata": {
    "slideshow": {
     "slide_type": "notes"
    }
   },
   "source": [
    "-  Its important to note that there are some examples when you might want to catch all exceptions, For example since Web scraping. \n",
    "\n",
    "- Many code bases are completely dominated by error handling like our current example."
   ]
  },
  {
   "cell_type": "markdown",
   "metadata": {
    "slideshow": {
     "slide_type": "fragment"
    }
   },
   "source": [
    "**Lesson 3:** Error handling is important, but if it obscures the logic, it’s a bad idea"
   ]
  },
  {
   "cell_type": "markdown",
   "metadata": {
    "slideshow": {
     "slide_type": "notes"
    }
   },
   "source": [
    "- Error handling is important, but we should strives to make our job easier.\n",
    " - as the zen of python state\n",
    "      \"If the implementation is hard to explain, it's a bad idea.\"\n",
    "- There are two reasons why the code became so unreadable:\n",
    "    - The first one is, there are various reasons for Exceptions in python:\n",
    "        - The obious one is that something exceptional happened.\n",
    "        - As a control flow mechanism.\n",
    "        - Can be triggered due to a bug in our code .\n",
    "    - We handled our exceptions in the wrong layer\n",
    "        - we need to separate the business logic from administrative logic.\n",
    "        - in order to make the business logic very stand out.      "
   ]
  },
  {
   "cell_type": "markdown",
   "metadata": {
    "slideshow": {
     "slide_type": "slide"
    }
   },
   "source": [
    "## Our Ideal Code 💯"
   ]
  },
  {
   "cell_type": "code",
   "execution_count": 6,
   "metadata": {
    "slideshow": {
     "slide_type": "fragment"
    }
   },
   "outputs": [],
   "source": [
    "def get_food_recommendation(path):\n",
    "    user = _get_user(path)\n",
    "    restaurants = _get_recommended_restaurant(user)\n",
    "    return _pick_best_restaurant(restaurants)\n",
    "\n",
    "get_food_recommendation(\"MY_AMAZING_FILE.json\")"
   ]
  },
  {
   "cell_type": "markdown",
   "metadata": {
    "slideshow": {
     "slide_type": "notes"
    }
   },
   "source": [
    "- In order to get to our ideal code we need to move all the exception handling logic from our method\n",
    "- In other words we need to push the exception handling part up or down in the abstraction level"
   ]
  },
  {
   "cell_type": "markdown",
   "metadata": {
    "slideshow": {
     "slide_type": "subslide"
    }
   },
   "source": [
    "# Pushing Exception Handling Down ⏬"
   ]
  },
  {
   "cell_type": "markdown",
   "metadata": {
    "slideshow": {
     "slide_type": "fragment"
    }
   },
   "source": [
    "**This**"
   ]
  },
  {
   "cell_type": "code",
   "execution_count": 7,
   "metadata": {
    "slideshow": {
     "slide_type": "fragment"
    }
   },
   "outputs": [],
   "source": [
    "def _get_user(path):\n",
    "    with open(path, 'r') as json_file:\n",
    "        return json.load(json_file)[\"user\"]"
   ]
  },
  {
   "cell_type": "markdown",
   "metadata": {
    "slideshow": {
     "slide_type": "notes"
    }
   },
   "source": [
    "as a reminder all the exception we handled came from get_country and this how the code looked before"
   ]
  },
  {
   "cell_type": "markdown",
   "metadata": {
    "slideshow": {
     "slide_type": "fragment"
    }
   },
   "source": [
    "**Becomes**"
   ]
  },
  {
   "cell_type": "code",
   "execution_count": 8,
   "metadata": {
    "slideshow": {
     "slide_type": "fragment"
    }
   },
   "outputs": [],
   "source": [
    "def _get_user(path):\n",
    "    with open(path, 'r') as json_file:\n",
    "        try:\n",
    "            data = json.load(json_file)\n",
    "        except FileNotFoundException:\n",
    "            logging.error(\"VERY UNINFORMATIVE INFORMATION\")\n",
    "            raise\n",
    "        except JSONDecodeError:\n",
    "            logging.error(\"VERY UNINFORMATIVE INFORMATION\")\n",
    "            raise\n",
    "        try:\n",
    "            user = data[\"user\"]\n",
    "        except KeyError:\n",
    "            user = \"default_user\"        \n",
    "    return user"
   ]
  },
  {
   "cell_type": "markdown",
   "metadata": {
    "slideshow": {
     "slide_type": "notes"
    }
   },
   "source": [
    "- In our example we pushed all the exceptions to the get_country method and make it more reliable and thus keeping get_country_capital clean\n"
   ]
  },
  {
   "cell_type": "markdown",
   "metadata": {
    "slideshow": {
     "slide_type": "fragment"
    }
   },
   "source": [
    "**Lesson 4:** Push the exception handling down/up in the abstraction level\n"
   ]
  },
  {
   "cell_type": "markdown",
   "metadata": {
    "slideshow": {
     "slide_type": "notes"
    }
   },
   "source": [
    "- In addition I will seperate key extraction from the try catch block to another try/catch block as in many cases it will make our code less nested\n",
    "- as the zen of python state \"Flat is better than nested\".\n"
   ]
  },
  {
   "cell_type": "markdown",
   "metadata": {
    "slideshow": {
     "slide_type": "fragment"
    }
   },
   "source": [
    "**Lesson 5:** Split nested try catch blocks to separated try blocks"
   ]
  },
  {
   "cell_type": "markdown",
   "metadata": {
    "slideshow": {
     "slide_type": "notes"
    }
   },
   "source": [
    "- When our json is valid but we lack the country key we are picking france as our default country.\n",
    "    - In our example we could use check if the key exists as oppose of catching KeyError.\n",
    "\n",
    "\n",
    "- This is the diffrence between EAFP (it’s easier to ask for forgiveness than permission) versus LBYL (Look before you leap)\n",
    "    - Each has its own pros and cons (whether the thread-safty or readability)\n",
    "    - but both are legitimate in python as oppose to other languages.\n",
    "\n",
    "- But our code is still ugly, "
   ]
  },
  {
   "cell_type": "markdown",
   "metadata": {
    "slideshow": {
     "slide_type": "subslide"
    }
   },
   "source": [
    "## A Bit Mackup 💄\n"
   ]
  },
  {
   "cell_type": "markdown",
   "metadata": {
    "slideshow": {
     "slide_type": "fragment"
    }
   },
   "source": [
    "**This**"
   ]
  },
  {
   "cell_type": "code",
   "execution_count": 9,
   "metadata": {
    "slideshow": {
     "slide_type": "fragment"
    }
   },
   "outputs": [],
   "source": [
    "def _get_user(path):\n",
    "    with open(path, 'r') as json_file:\n",
    "        try:\n",
    "            data = json.load(json_file)\n",
    "        except FileNotFoundException:\n",
    "            logging.error(\"VERY UNINFORMATIVE INFORMATION\")\n",
    "            raise\n",
    "        except JSONDecodeError:\n",
    "            logging.error(\"VERY UNINFORMATIVE INFORMATION\")\n",
    "            raise\n",
    "        try:\n",
    "            user = data[\"user\"]\n",
    "        except KeyError:\n",
    "            user = \"default_user\"        \n",
    "    return user"
   ]
  },
  {
   "cell_type": "markdown",
   "metadata": {
    "slideshow": {
     "slide_type": "fragment"
    }
   },
   "source": [
    "**Becomes**"
   ]
  },
  {
   "cell_type": "code",
   "execution_count": 10,
   "metadata": {
    "slideshow": {
     "slide_type": "fragment"
    }
   },
   "outputs": [],
   "source": [
    "def _get_user(path):\n",
    "    with open(path, 'r') as json_file:\n",
    "        try:\n",
    "            data = json.load(json_file)\n",
    "        except (FileNotFoundException, JSONDecodeError):\n",
    "            logging.error(\"VERY UNINFORMATIVE INFORMATION\")\n",
    "            raise\n",
    "        else:\n",
    "            user = data.get(\"user\", \"default_user\")\n",
    "            return user"
   ]
  },
  {
   "cell_type": "markdown",
   "metadata": {
    "slideshow": {
     "slide_type": "notes"
    }
   },
   "source": [
    "- This is the same code with a few cosmetic changes\n",
    "- First since we handle both FileNotFoundException and JSONDecodeError in the same manner they can \"share the except block\"\n",
    "  as except clause may name multiple exceptions as a parenthesized tuple.\n",
    "- Secondly we can use else  clause which occur when the try block executed and did not raise an exception.\n",
    "- Thirdly, we use dictionary builtin function get which allow us to define default values.\n",
    "\n",
    "- and the lesson here is that Frequent flows probably have clean existing solution."
   ]
  },
  {
   "cell_type": "markdown",
   "metadata": {
    "slideshow": {
     "slide_type": "fragment"
    }
   },
   "source": [
    "**Lesson 6:** Frequent flows probably have clean existing solution."
   ]
  },
  {
   "cell_type": "markdown",
   "metadata": {
    "slideshow": {
     "slide_type": "notes"
    }
   },
   "source": [
    "- There is another common flow for exception handling i want to cover which is suppressing exceptions"
   ]
  },
  {
   "cell_type": "code",
   "execution_count": 11,
   "metadata": {
    "slideshow": {
     "slide_type": "skip"
    }
   },
   "outputs": [],
   "source": [
    "def run_unstopable_animation():\n",
    "    pass\n"
   ]
  },
  {
   "cell_type": "markdown",
   "metadata": {
    "slideshow": {
     "slide_type": "subslide"
    }
   },
   "source": [
    "## Suppressing Exceptions 🤫"
   ]
  },
  {
   "cell_type": "markdown",
   "metadata": {
    "slideshow": {
     "slide_type": "fragment"
    }
   },
   "source": [
    "**This**"
   ]
  },
  {
   "cell_type": "code",
   "execution_count": null,
   "metadata": {
    "slideshow": {
     "slide_type": "skip"
    }
   },
   "outputs": [],
   "source": [
    "try:\n",
    "    os.remove('somefile.pyc')\n",
    "except FileNotFoundError:\n",
    "    pass"
   ]
  },
  {
   "cell_type": "code",
   "execution_count": 12,
   "metadata": {
    "slideshow": {
     "slide_type": "fragment"
    }
   },
   "outputs": [],
   "source": [
    "try:\n",
    "    run_unstopable_animation()\n",
    "except KeyboardInterrupt:\n",
    "    pass"
   ]
  },
  {
   "cell_type": "markdown",
   "metadata": {
    "slideshow": {
     "slide_type": "notes"
    }
   },
   "source": [
    "- Another example for such flow is try except pass "
   ]
  },
  {
   "cell_type": "markdown",
   "metadata": {
    "slideshow": {
     "slide_type": "fragment"
    }
   },
   "source": [
    "**Becomes**"
   ]
  },
  {
   "cell_type": "code",
   "execution_count": null,
   "metadata": {
    "slideshow": {
     "slide_type": "skip"
    }
   },
   "outputs": [],
   "source": [
    "from contextlib import suppress\n",
    "\n",
    "with suppress(FileNotFoundError):\n",
    "    os.remove('somefile.pyc')"
   ]
  },
  {
   "cell_type": "code",
   "execution_count": 13,
   "metadata": {
    "slideshow": {
     "slide_type": "fragment"
    }
   },
   "outputs": [],
   "source": [
    "from contextlib import suppress\n",
    "\n",
    "with suppress(KeyboardInterrupt):\n",
    "    run_unstopable_animation()"
   ]
  },
  {
   "cell_type": "markdown",
   "metadata": {
    "slideshow": {
     "slide_type": "notes"
    }
   },
   "source": [
    "which translate to with Suppress, supported from python>=3.5"
   ]
  },
  {
   "cell_type": "markdown",
   "metadata": {
    "slideshow": {
     "slide_type": "slide"
    }
   },
   "source": [
    "## Friendly Reminder 📑"
   ]
  },
  {
   "cell_type": "code",
   "execution_count": 14,
   "metadata": {
    "slideshow": {
     "slide_type": "fragment"
    }
   },
   "outputs": [],
   "source": [
    "def _get_user(path):\n",
    "    with open(path, 'r') as json_file:\n",
    "        try:\n",
    "            data = json.load(json_file)\n",
    "        except (FileNotFoundException, JSONDecodeError):\n",
    "            logging.error(\"VERY UNINFORMATIVE INFORMATION\")\n",
    "            raise\n",
    "        else:\n",
    "            user = data.get(\"user\", \"default_user\")\n",
    "            return user"
   ]
  },
  {
   "cell_type": "markdown",
   "metadata": {
    "slideshow": {
     "slide_type": "notes"
    }
   },
   "source": [
    "- This code is much more readble and handle the exception in quite a good manner\n",
    "- The problems that can emerge from this kind of code is that it doesnt YELL the intent.\n",
    "- There are few ways to emphasis our intent and the type and actual message are the most cruitial ones."
   ]
  },
  {
   "cell_type": "markdown",
   "metadata": {
    "slideshow": {
     "slide_type": "fragment"
    }
   },
   "source": [
    "**Lesson 7:** We can improve how we express our intent with the exception type and message\n"
   ]
  },
  {
   "cell_type": "markdown",
   "metadata": {
    "slideshow": {
     "slide_type": "subslide"
    }
   },
   "source": [
    "![](builtin_exceptions.png)\n"
   ]
  },
  {
   "cell_type": "markdown",
   "metadata": {
    "slideshow": {
     "slide_type": "notes"
    }
   },
   "source": [
    "- As you can see there are tons of builtin exceptions and one of them might fit like a glove.\n",
    "- They are well documented and the invoker can do some stackoverflow magic when he face them.\n",
    "- In our example its seems there are no good exception type to emphasis our intent intent more.\n",
    "- So either we stay with the same exceptions thrown or we should create a custome exception.\n",
    "- The question is When should I create a custom exception as oppose to using builtin ones?!"
   ]
  },
  {
   "cell_type": "markdown",
   "metadata": {},
   "source": [
    "## Builtin Exceptions vs Custom Exceptions ⚔\n"
   ]
  },
  {
   "cell_type": "markdown",
   "metadata": {
    "slideshow": {
     "slide_type": "fragment"
    }
   },
   "source": [
    "\n",
    "- By default we should thrive to use builtin exceptions."
   ]
  },
  {
   "cell_type": "markdown",
   "metadata": {
    "slideshow": {
     "slide_type": "fragment"
    }
   },
   "source": [
    "- Unless We can emphasis our intent."
   ]
  },
  {
   "cell_type": "markdown",
   "metadata": {
    "slideshow": {
     "slide_type": "notes"
    }
   },
   "source": [
    "- Unless We can emphasis our intent (like in our example).\n",
    "    - I want to be able to convey to the user why an exception is being raised\n",
    "    - not just that an exception is being raised.\n"
   ]
  },
  {
   "cell_type": "markdown",
   "metadata": {
    "slideshow": {
     "slide_type": "fragment"
    }
   },
   "source": [
    "- Unless We need to clearly distinguish between different exceptions."
   ]
  },
  {
   "cell_type": "markdown",
   "metadata": {
    "slideshow": {
     "slide_type": "notes"
    }
   },
   "source": [
    "- Another reason for custom exception is if We need to clearly distinguish between different kind of exceptions. For example\n",
    "    - Lets say we have ValueError and we want to recover in diffrent way between TooBig/TooSmall.\n",
    "    - Another example is when Wrapping third party exceptions. I wont go into too much detail regarding this but in a nutshell\n",
    "        - when we wrap third party api we minimize our dependecy on it. for example uppon recovery shouldn't have to import exceptions from your dependecies for example requests.exceptions\n",
    "        - Also the users that use your library does not need/want to know about the implementation details.\n",
    "        "
   ]
  },
  {
   "cell_type": "markdown",
   "metadata": {
    "slideshow": {
     "slide_type": "fragment"
    }
   },
   "source": [
    "**Lesson 8:** Custom exceptions can be usefull\n"
   ]
  },
  {
   "cell_type": "code",
   "execution_count": 15,
   "metadata": {
    "slideshow": {
     "slide_type": "subslide"
    }
   },
   "outputs": [],
   "source": [
    "class MaleformConfigFile(Exception):\n",
    "    pass"
   ]
  },
  {
   "cell_type": "markdown",
   "metadata": {
    "slideshow": {
     "slide_type": "notes"
    }
   },
   "source": [
    "- In our usecase both FileNotFoundException and JSONDecodeError are indication we have MaleformConfigurationFile and the invoker would want to treat them the same \n",
    "- Its important to understand the power of renaming, as it will emphasis our intent\n",
    "- Another consideration is picking the right inheritance (can even have multiple inheritance).\n",
    "- you can use type inheritance to be clever about how you catch exceptions.\n"
   ]
  },
  {
   "cell_type": "code",
   "execution_count": 16,
   "metadata": {
    "slideshow": {
     "slide_type": "fragment"
    }
   },
   "outputs": [],
   "source": [
    "def _get_user(path):\n",
    "    with open(path, 'r') as json_file:\n",
    "        try:\n",
    "            data = json.load(json_file)\n",
    "        except (FileNotFoundException, JSONDecodeError):\n",
    "            logging.error(\"VERY INFORMATIVE INFORMATION\")\n",
    "            raise MaleformConfigFile from None\n",
    "        else:\n",
    "            user = data.get(\"user\", \"default_user\")\n",
    "            return user"
   ]
  },
  {
   "cell_type": "markdown",
   "metadata": {
    "slideshow": {
     "slide_type": "notes"
    }
   },
   "source": [
    "- So instead of just re-raising the same exception we will raise MaleformConfigFile for both FileNotFoundException, JSONDecodeError\n",
    "- If I want to controll the trace that of our exception we could change the cause\n",
    "- There are basicly 3 strategies to change the cause eith\n",
    "    - raise MaleformConfigFile\n",
    "    - raise MaleformConfigFile from None\n",
    "    - raise MaleformConfigFile from e"
   ]
  },
  {
   "cell_type": "markdown",
   "metadata": {
    "slideshow": {
     "slide_type": "fragment"
    }
   },
   "source": [
    "**Lesson 9:** We can improve how we express our intent with the __cause__ of the exception"
   ]
  },
  {
   "cell_type": "markdown",
   "metadata": {
    "slideshow": {
     "slide_type": "notes"
    }
   },
   "source": [
    "- I wont go into details but will give you an example.\n",
    "    \n",
    "- If the code I just showed you is a library, I might want to hide internal implementation details.\n",
    "- i might want to suppress hide the FileNotFoundException, JSONDecodeError info  and only show the MaleformConfigFile part of trace.\n",
    "- This is done by using from None\n"
   ]
  },
  {
   "cell_type": "code",
   "execution_count": 17,
   "metadata": {
    "slideshow": {
     "slide_type": "slide"
    }
   },
   "outputs": [],
   "source": [
    "def _get_recommended_restaurant(country):\n",
    "    base_url = \"https://en.wikipedia.org/wiki\"\n",
    "    resp = requests.get(f\"{base_url}/{country}\")\n",
    "    resp.raise_for_status()\n",
    "    return resp.content"
   ]
  },
  {
   "cell_type": "markdown",
   "metadata": {
    "slideshow": {
     "slide_type": "notes"
    }
   },
   "source": [
    "- Lets go to our get_wikipedia_country_content method\n",
    "- if we want to make it more robust to the flakiness environment. \n",
    "- we might want to implement some retrying mechanism"
   ]
  },
  {
   "cell_type": "code",
   "execution_count": 18,
   "metadata": {
    "slideshow": {
     "slide_type": "subslide"
    }
   },
   "outputs": [],
   "source": [
    "def _get_recommended_restaurant(country):\n",
    "    base_url = \"https://en.wikipedia.org/wiki\"\n",
    "    allowed_retries = 5\n",
    "    for i in range(1, allowed_retries + 1):\n",
    "        try:\n",
    "            resp = requests.get(f\"{base_url}/{country}\")\n",
    "            resp.raise_for_status()\n",
    "        except (requests.ConnectionError, requests.Timeout) as e:\n",
    "            if i == allowed_retries:\n",
    "                raise errors.Unavailable() from e\n",
    "        else:\n",
    "            return resp.content"
   ]
  },
  {
   "cell_type": "markdown",
   "metadata": {
    "slideshow": {
     "slide_type": "notes"
    }
   },
   "source": [
    "- In this snippet we are using the techniques we showed before.\n",
    "- And yet this codestill unreadable\n",
    "- Just a reminder We want seperate the buisness logic as much as possible from the exception handling code, this can be used by using python decorators for the retry logic\n",
    "- important note retry can be handled in the request itself by [writing an adapter](https://findwork.dev/blog/advanced-usage-python-requests-timeouts-retries-hooks/), but for the example sake i wont use it. \n",
    "- we are going to use a diffrent technique"
   ]
  },
  {
   "cell_type": "markdown",
   "metadata": {
    "slideshow": {
     "slide_type": "subslide"
    }
   },
   "source": [
    "## Decorators 🎊\n"
   ]
  },
  {
   "cell_type": "markdown",
   "metadata": {
    "slideshow": {
     "slide_type": "fragment"
    }
   },
   "source": [
    "- Decorators extend our function capabilities beyond its core intent.\n"
   ]
  },
  {
   "cell_type": "code",
   "execution_count": 19,
   "metadata": {
    "slideshow": {
     "slide_type": "skip"
    }
   },
   "outputs": [],
   "source": [
    "from functools import wraps"
   ]
  },
  {
   "cell_type": "code",
   "execution_count": 20,
   "metadata": {
    "slideshow": {
     "slide_type": "subslide"
    }
   },
   "outputs": [],
   "source": [
    "def retry(exceptions, allowed_retries=5):\n",
    "    def callable(func):\n",
    "        @wraps(func)\n",
    "        def wrapped(*args, **kwargs):\n",
    "            for i in range(allowed_retries):\n",
    "                try:\n",
    "                    res = func()\n",
    "                except exceptions:\n",
    "                    continue\n",
    "                else:\n",
    "                    return res       \n",
    "        return wrapped\n",
    "    return callable            "
   ]
  },
  {
   "cell_type": "markdown",
   "metadata": {
    "slideshow": {
     "slide_type": "notes"
    }
   },
   "source": [
    "- In our example we can simply create a decorator and then use it to make the buisness logic and the exception handling part seprated"
   ]
  },
  {
   "cell_type": "code",
   "execution_count": 21,
   "metadata": {
    "slideshow": {
     "slide_type": "fragment"
    }
   },
   "outputs": [],
   "source": [
    "@retry(exceptions=(requests.ConnectionError, requests.Timeout))\n",
    "def _get_recommended_restaurant(country):\n",
    "    base_url = \"https://en.wikipedia.org/wiki\"\n",
    "    resp = requests.get(f\"{base_url}/{country}\")\n",
    "    resp.raise_for_status()\n",
    "    return resp.content\n"
   ]
  },
  {
   "cell_type": "markdown",
   "metadata": {
    "slideshow": {
     "slide_type": "notes"
    }
   },
   "source": [
    "- There are many usecases that using decorators can make our code much cleaner. For example ratelimit retry and more.\n",
    "  Most of the frequent use-cases are already exists as a seperate library \n",
    "- those libraries tend to have more features and less bugs.\n",
    "  For example tenacity has advance mechanisms for the intervals between retries.\n",
    "  "
   ]
  },
  {
   "cell_type": "markdown",
   "metadata": {
    "slideshow": {
     "slide_type": "fragment"
    }
   },
   "source": [
    "- **Lesson 10:** Use python builtin constructs to write cleaner code\n"
   ]
  },
  {
   "cell_type": "markdown",
   "metadata": {
    "slideshow": {
     "slide_type": "skip"
    }
   },
   "source": [
    "## Usefull usecases 🧠\n",
    "- [ratelimit](https://github.com/tomasbasham/ratelimit)\n",
    "- [Retry](https://github.com/jd/tenacity)\n",
    "- [logger.catch](https://github.com/Delgan/loguru)"
   ]
  },
  {
   "cell_type": "markdown",
   "metadata": {},
   "source": [
    "- The same benefits can achived with context managers"
   ]
  },
  {
   "cell_type": "markdown",
   "metadata": {
    "slideshow": {
     "slide_type": "subslide"
    }
   },
   "source": [
    "## Context Managers 🌉\n",
    "- Wrap around enter and exit logic over a given resource.\n"
   ]
  },
  {
   "cell_type": "code",
   "execution_count": 22,
   "metadata": {
    "slideshow": {
     "slide_type": "fragment"
    }
   },
   "outputs": [],
   "source": [
    "def context_manager_example():\n",
    "    engine = create_engine(\"...\")\n",
    "    Session = sessionmaker(bind=engine)\n",
    "\n",
    "    session = Session()\n",
    "    try:\n",
    "        item1 = session.query(Item).get(1)\n",
    "        item2 = session.query(Item).get(2)\n",
    "        item1.foo = 'bar'\n",
    "        item2.bar = 'foo'\n",
    "        session.commit()\n",
    "    except:\n",
    "        session.rollback()\n",
    "        raise\n",
    "    finally:\n",
    "        session.close()"
   ]
  },
  {
   "cell_type": "code",
   "execution_count": 23,
   "metadata": {},
   "outputs": [],
   "source": [
    "@contextlib.contextmanager\n",
    "def transactional_session(session_cls, nested=True, **kwargs):\n",
    "    session = session_cls(**kwargs)\n",
    "    session.begin(nested=nested)\n",
    "    try:\n",
    "        yield session\n",
    "    except:\n",
    "        session.rollback()\n",
    "        raise\n",
    "    else:\n",
    "        session.commit()\n",
    "    finally:\n",
    "        session.close()"
   ]
  },
  {
   "cell_type": "markdown",
   "metadata": {
    "slideshow": {
     "slide_type": "notes"
    }
   },
   "source": [
    "- Like decorators there are many usecases, like temporary files, transactions database connections and more"
   ]
  },
  {
   "cell_type": "markdown",
   "metadata": {
    "slideshow": {
     "slide_type": "skip"
    }
   },
   "source": [
    "## Usefull usecases 🧠\n",
    "\n",
    "- [Database Connections]()\n",
    "- [Transactions]()\n",
    "- [Temporary Files]()\n",
    "- [Output Redirections]()\n"
   ]
  },
  {
   "cell_type": "markdown",
   "metadata": {
    "slideshow": {
     "slide_type": "slide"
    }
   },
   "source": [
    "## sys's excepthook! 🎣\n"
   ]
  },
  {
   "cell_type": "markdown",
   "metadata": {
    "slideshow": {
     "slide_type": "notes"
    }
   },
   "source": [
    "- Python has builtin hooks for various events including uncaught exceptions "
   ]
  },
  {
   "cell_type": "markdown",
   "metadata": {
    "slideshow": {
     "slide_type": "fragment"
    }
   },
   "source": [
    "- Overiding this using sys.excepthook."
   ]
  },
  {
   "cell_type": "markdown",
   "metadata": {
    "slideshow": {
     "slide_type": "notes"
    }
   },
   "source": [
    "- We can achieve exactly that by overiding our own sys.excepthook.\n",
    "\n",
    "- Uncaught exception will print traceback to STDERR before closing.\n",
    "\n",
    "- In a production environment, this is not acceptable. \n",
    "\n",
    "- We want to do some graceful exit before your program's demise. For example, notify some incident system.\n"
   ]
  },
  {
   "cell_type": "code",
   "execution_count": 24,
   "metadata": {
    "slideshow": {
     "slide_type": "fragment"
    }
   },
   "outputs": [],
   "source": [
    "import sys\n",
    "import rollbar\n",
    "\n",
    "rollbar.init(\"Super Secret Token\")\n",
    "\n",
    "def rollbar_except_hook(exc_type, exc_value, traceback):\n",
    "    rollbar.report_exc_info((exc_type, exc_value, traceback))\n",
    "    sys.__excepthook__(exc_type, exc_value, traceback)\n",
    "    \n",
    "sys.excepthook = rollbar_except_hook"
   ]
  },
  {
   "cell_type": "markdown",
   "metadata": {
    "slideshow": {
     "slide_type": "notes"
    }
   },
   "source": [
    "- The major benefit of this approach is that it  doesn't require modifying existing code.\n",
    "\n",
    "- I am NOT suggesting you substitute your recovery try/except blocks with this method, just as a better way to crash an application."
   ]
  },
  {
   "cell_type": "markdown",
   "metadata": {
    "slideshow": {
     "slide_type": "fragment"
    }
   },
   "source": [
    "**Lesson 11:** Python has some usefull builtin hooks."
   ]
  },
  {
   "cell_type": "markdown",
   "metadata": {
    "slideshow": {
     "slide_type": "subslide"
    }
   },
   "source": [
    "## Usefull usecases 🧠"
   ]
  },
  {
   "cell_type": "markdown",
   "metadata": {
    "slideshow": {
     "slide_type": "fragment"
    }
   },
   "source": [
    "\n",
    "- [Format Diffrently](https://dev.to/joshuaschlichting/catching-every-single-exception-with-python-40o3)\n",
    "- [Redirect To Incident System](https://sweetcode.io/using-rollbar-capturing-logging-python-exceptions/)\n",
    "- [Multi Threading Behaviour](https://www.scrygroup.com/tutorial/2018-02-06/python-excepthook-logging/)\n",
    "- [Search Stackoverflow](https://gist.github.com/WoLpH/88e3222ac57d9c3bff113ff83afddda4/) 😛😛😛"
   ]
  },
  {
   "cell_type": "markdown",
   "metadata": {
    "slideshow": {
     "slide_type": "notes"
    }
   },
   "source": [
    "- We can format the exceptions diffrently, to provide more/less information.\n",
    "- We can redirect Exceptions to an incident system like rollbar or pager-duty.\n",
    "- Since threading/multiprocessing have their own unhandled exception machinery.\n",
    "  that is a bit customized so no unhandled exception exists at the top level.\n",
    "  we might want to overide it to support KeyboardInterupt for example.\n",
    "- Search Stackoverflow for the exception that was being raise"
   ]
  },
  {
   "cell_type": "markdown",
   "metadata": {
    "slideshow": {
     "slide_type": "slide"
    }
   },
   "source": [
    "# Silent Errors 🔇"
   ]
  },
  {
   "cell_type": "markdown",
   "metadata": {
    "slideshow": {
     "slide_type": "fragment"
    }
   },
   "source": [
    "- Does not crash code but delivers an incorrect result.\n"
   ]
  },
  {
   "cell_type": "markdown",
   "metadata": {
    "slideshow": {
     "slide_type": "fragment"
    }
   },
   "source": [
    "- Makes matter worse.\n"
   ]
  },
  {
   "cell_type": "markdown",
   "metadata": {
    "slideshow": {
     "slide_type": "notes"
    }
   },
   "source": [
    "- Just because programmers often ignore error messages doesn’t mean the program should stop emitting them. \n",
    "- Silent errors can happen when functions return None or other value instead of raising exceptions.\n",
    "- generaly it’s better for a program to fail fast and crash than to silence the error and continue running the program. \n",
    "- The bugs that inevitably happen later on will be harder to debug since they are far removed from the original cause. \n",
    "\n",
    "- To know if program is correct we need to have a contract"
   ]
  },
  {
   "cell_type": "markdown",
   "metadata": {
    "slideshow": {
     "slide_type": "subslide"
    }
   },
   "source": [
    "# Contract 📜"
   ]
  },
  {
   "cell_type": "markdown",
   "metadata": {
    "slideshow": {
     "slide_type": "fragment"
    }
   },
   "source": [
    "- Output/Input types/values\n",
    "- Postconditions.\n",
    "- Preconditions.\n",
    "- Side effects.\n",
    "- Invariants."
   ]
  },
  {
   "cell_type": "markdown",
   "metadata": {
    "slideshow": {
     "slide_type": "notes"
    }
   },
   "source": [
    "- The first attempt to handle it is assertions\n"
   ]
  },
  {
   "cell_type": "code",
   "execution_count": 25,
   "metadata": {
    "slideshow": {
     "slide_type": "subslide"
    }
   },
   "outputs": [],
   "source": [
    "def _get_user(path):\n",
    "    assert isinstance(path, str) or isinstance(path, pathlib.PurePath)\n",
    "    with open(path, 'r') as json_file:\n",
    "        try:\n",
    "            data = json.load(json_file)\n",
    "        except (FileNotFoundException, JSONDecodeError):\n",
    "            logging.error(\"VERY INFORMATIVE INFORMATION\")\n",
    "            raise MaleformConfigFile\n",
    "        else:\n",
    "            user = data.get(\"user\",\"default_user\")\n",
    "            assert isinstance(country, str)\n",
    "            return user"
   ]
  },
  {
   "cell_type": "markdown",
   "metadata": {
    "slideshow": {
     "slide_type": "notes"
    }
   },
   "source": [
    "- One can check those contracts with a simple assert\n",
    "- Assert has the following cons:\n",
    "    -  \"assert\" raises the wrong type of exception and \"hides\" our intent. In our example we will raise AssertionError as oppose to TypeError.\n",
    "    - it can be compiled away if you run Python with the -O or -OO optimization flags\n",
    "- Thus in generaly i believe its better to just raise regular exception"
   ]
  },
  {
   "cell_type": "code",
   "execution_count": 26,
   "metadata": {
    "slideshow": {
     "slide_type": "skip"
    }
   },
   "outputs": [],
   "source": [
    "@typechecked\n",
    "def get_country(path: Union[str, pathlib.PurePath]) -> str:\n",
    "    with open(path, 'r') as json_file:\n",
    "        try:\n",
    "            data = json.load(json_file)\n",
    "        except (FileNotFoundException, JSONDecodeError):\n",
    "            logging.error(\"VERY INFORMATIVE INFORMATION\")\n",
    "            raise MaleformConfigFile\n",
    "        else:\n",
    "            user = data.get(\"user\",\"default_user\")\n",
    "            return user"
   ]
  },
  {
   "cell_type": "markdown",
   "metadata": {
    "slideshow": {
     "slide_type": "notes"
    }
   },
   "source": [
    "- There are some existing libraries that provide these contracts checking via decorator\n",
    "- In this example i show the use of typechecked decorator of typecheck package to validate the types are correct in runtime (as oppose to mypy compile time)\n",
    "- there two more packages for contracts:\n",
    "    - [icontract](https://github.com/Parquery/icontract)\n",
    "    - [contracts](https://github.com/AndreaCensi/contracts)\n"
   ]
  },
  {
   "cell_type": "markdown",
   "metadata": {
    "slideshow": {
     "slide_type": "fragment"
    }
   },
   "source": [
    "- **Lesson 12:** Use contracts to protect your code from silent errors."
   ]
  },
  {
   "cell_type": "code",
   "execution_count": 27,
   "metadata": {
    "slideshow": {
     "slide_type": "slide"
    }
   },
   "outputs": [],
   "source": [
    "def _get_recommended_restaurant(country):\n",
    "    base_url = \"https://en.wikipedia.org/wiki\"\n",
    "    resp = requests.get(f\"{base_url}/{country}\")\n",
    "    resp.raise_for_status()\n",
    "    return resp.content"
   ]
  },
  {
   "cell_type": "markdown",
   "metadata": {
    "slideshow": {
     "slide_type": "notes"
    }
   },
   "source": [
    "In our usecases we can still get a lot of exception\n",
    "- Your network might be down, so request won't happen at all\n",
    "- The server might be down\n",
    "- The server might be too busy and you will face a timeout\n",
    "- The server might require an authentication\n",
    "- API endpoint might not exist\n",
    "- You might not have enough permissions to view it\n",
    "- The server might fail with an internal error while processing your request\n",
    "- The server might return an invalid or corrupted response\n",
    "- The server might return invalid json, so the parsing will fail\n",
    "\n",
    "\n",
    "Ok, now we will hope that someone else will catch this exception and possibly handle it.\n",
    "\n",
    "Now we just need to check where this exception is actually caught. By the way, how can we tell where exactly it will be handled? Can we navigate to this point in the code? Turns out, we can not do that.\n",
    "\n",
    "There’s no way to tell which line of code will be executed after the exception is thrown.\n",
    "\n",
    "We have two independent flows in our app: regular flow that goes from top to bottom and exceptional one that goes however it wants. How can we consciously read code like this?\n"
   ]
  },
  {
   "cell_type": "code",
   "execution_count": 28,
   "metadata": {
    "slideshow": {
     "slide_type": "subslide"
    }
   },
   "outputs": [],
   "source": [
    "import requests\n",
    "from returns.result import safe\n",
    "from returns.result import Result\n",
    "\n",
    "@safe    \n",
    "def _get_recommended_restaurant(country: str) -> Result['UserProfile', Exception]:\n",
    "    base_url = \"https://en.wikipedia.org/wiki\"\n",
    "    resp = requests.get(f\"{base_url}/{country}\")\n",
    "    resp.raise_for_status()\n",
    "    return resp.content"
   ]
  },
  {
   "cell_type": "markdown",
   "metadata": {
    "slideshow": {
     "slide_type": "notes"
    }
   },
   "source": [
    "- You can use container values, that wraps actual success or error value into a thin wrapper with utility methods to work with this value. That's exactly why we have created @dry-python/returns project. So you can make your functions return something meaningful, typed, and safe.\n",
    "\n",
    "- \"Execution flow is unclear\". Now it is the same as a regular business flow. From top to bottom.\n",
    "             \n",
    "\n",
    "- We use @safe for all methods that can raise an exception, it will change the return type of the function to Result[OldReturnType, Exception]\n",
    "- We use Result as a container for wrapping values and errors in a simple abstraction\n",
    "- We use .unwrap() to unwrap raw value from the container\n",
    "- We use @pipeline to make sequences of .unwrap calls readable\n",
    "\n",
    "\n"
   ]
  },
  {
   "cell_type": "markdown",
   "metadata": {
    "slideshow": {
     "slide_type": "fragment"
    }
   },
   "source": [
    "- **Lesson 13:** For complicated usecases consider the functional way."
   ]
  },
  {
   "cell_type": "markdown",
   "metadata": {
    "slideshow": {
     "slide_type": "slide"
    }
   },
   "source": [
    "## Sensative information 🕵"
   ]
  },
  {
   "cell_type": "code",
   "execution_count": 29,
   "metadata": {
    "slideshow": {
     "slide_type": "fragment"
    }
   },
   "outputs": [],
   "source": [
    "def login(user):\n",
    "    raise CommonPasswordException(f\"password: {password} is too common\")"
   ]
  },
  {
   "cell_type": "markdown",
   "metadata": {
    "slideshow": {
     "slide_type": "notes"
    }
   },
   "source": [
    "- The issue here comes down to sensitive data. \n",
    "\n",
    "- Exceptions for internal use can contain technical details, such as user_ids or specific data that caused the crash,\n",
    "\n",
    "- but it’s important to remember when an exception occurs, these messages will be spread far and wide, through logging, reporting, and monitoring software.\n",
    "\n",
    "- In a world where regulation around personal data is constantly getting stricter, you can never be too careful\n",
    "\n",
    "-  and it’s almost always possible to provide valuable error messages without compromising customer privacy.\n"
   ]
  },
  {
   "cell_type": "markdown",
   "metadata": {
    "slideshow": {
     "slide_type": "fragment"
    }
   },
   "source": [
    "- **Lesson 14:** Don’t use sensitive information in exception messages."
   ]
  },
  {
   "cell_type": "markdown",
   "metadata": {
    "slideshow": {
     "slide_type": "notes"
    }
   },
   "source": [
    "\n",
    "\n",
    "- It’s not only customer privacy you need to worry about, though. Bad actors are everywhere.\n",
    "\n",
    "- We should never reveal weaknesses in the internal workings of your software to users.\n",
    "\n",
    "- Yes, you should give your users feedback about what’s going on, but never, ever tell them about the internal workings of your software.\n",
    "\n"
   ]
  },
  {
   "cell_type": "markdown",
   "metadata": {
    "slideshow": {
     "slide_type": "slide"
    }
   },
   "source": [
    "## Lessons: 👨‍🏫👩‍🏫"
   ]
  },
  {
   "cell_type": "markdown",
   "metadata": {
    "slideshow": {
     "slide_type": "fragment"
    }
   },
   "source": [
    "- **Lesson 1:** We want to build a fault tolerant (to a certain degree)."
   ]
  },
  {
   "cell_type": "markdown",
   "metadata": {
    "slideshow": {
     "slide_type": "fragment"
    }
   },
   "source": [
    "- **Lesson 2:** You shouldn't bother to handling all possible exceptions."
   ]
  },
  {
   "cell_type": "markdown",
   "metadata": {
    "slideshow": {
     "slide_type": "fragment"
    }
   },
   "source": [
    "- **Lesson 3:** Error handling is important, but if it obscures logic, it’s a bad idea"
   ]
  },
  {
   "cell_type": "markdown",
   "metadata": {
    "slideshow": {
     "slide_type": "fragment"
    }
   },
   "source": [
    "- **Lesson 4:** Push the exception handling down/up in the abstraction level\n"
   ]
  },
  {
   "cell_type": "markdown",
   "metadata": {
    "slideshow": {
     "slide_type": "fragment"
    }
   },
   "source": [
    "- **Lesson 6:** Split nested try catch blocks to separated blocks\n"
   ]
  },
  {
   "cell_type": "markdown",
   "metadata": {
    "slideshow": {
     "slide_type": "fragment"
    }
   },
   "source": [
    "- **Lesson 7:** Frequent flows probably have clean existing solution.\n"
   ]
  },
  {
   "cell_type": "markdown",
   "metadata": {
    "slideshow": {
     "slide_type": "fragment"
    }
   },
   "source": [
    "- **Lesson 8:** We can improve how we express our intent with custom exceptions with the type of exception and the message"
   ]
  },
  {
   "cell_type": "markdown",
   "metadata": {
    "slideshow": {
     "slide_type": "fragment"
    }
   },
   "source": [
    "- **Lesson 9:** We can improve how we express our intent with the __cause__ of the exception"
   ]
  },
  {
   "cell_type": "markdown",
   "metadata": {
    "slideshow": {
     "slide_type": "subslide"
    }
   },
   "source": [
    "- **Lesson 10:** Use python builtin constructs to write cleaner code"
   ]
  },
  {
   "cell_type": "markdown",
   "metadata": {
    "slideshow": {
     "slide_type": "fragment"
    }
   },
   "source": [
    "- **Lesson 11:** Python has some usefull builtin hooks"
   ]
  },
  {
   "cell_type": "markdown",
   "metadata": {
    "slideshow": {
     "slide_type": "fragment"
    }
   },
   "source": [
    "- **Lesson 12:** Use contracts to protect your code from silent errors."
   ]
  },
  {
   "cell_type": "markdown",
   "metadata": {
    "slideshow": {
     "slide_type": "fragment"
    }
   },
   "source": [
    "- **Lesson 13:** For complicated usecases consider the functional way.    "
   ]
  },
  {
   "cell_type": "markdown",
   "metadata": {
    "slideshow": {
     "slide_type": "fragment"
    }
   },
   "source": [
    "- **Lesson 14:** Don’t use sensitive information in exception messages."
   ]
  },
  {
   "cell_type": "markdown",
   "metadata": {
    "slideshow": {
     "slide_type": "slide"
    }
   },
   "source": [
    "![](https://i.pinimg.com/originals/b9/0a/79/b90a79b4c361d079144597d0bcdd61de.jpg)"
   ]
  },
  {
   "cell_type": "markdown",
   "metadata": {
    "slideshow": {
     "slide_type": "skip"
    }
   },
   "source": [
    "### Additional Resources 📚"
   ]
  },
  {
   "cell_type": "markdown",
   "metadata": {
    "slideshow": {
     "slide_type": "skip"
    }
   },
   "source": [
    "- [Intro to Exception Handling](https://www.freecodecamp.org/news/exception-handling-python/)\n",
    "- [A Comprehensive Guide to Handling Exceptions in Python](https://medium.com/better-programming/a-comprehensive-guide-to-handling-exceptions-in-python-7175f0ce81f7)\n",
    "- [Exceptional Exceptions - How to properly raise, handle and create them.](https://www.youtube.com/watch?v=V2fGAv2R5j8)\n",
    "- [Beyond PEP 8 -- Best practices for beautiful intelligible code](https://www.youtube.com/watch?v=wf-BqAjZb8M)\n",
    "- [Passing Exceptions 101 Paradigms in Error Handling](https://www.youtube.com/watch?v=BMtJbrvwlmo)\n",
    "- [Custom Exceptions](https://towardsdatascience.com/how-to-define-custom-exception-classes-in-python-bfa346629bca)\n",
    "- [sys.excepthook Explained](https://dev.to/joshuaschlichting/catching-every-single-exception-with-python-40o3)\n",
    "- [Overiding Threading sys.excepthook](https://www.scrygroup.com/tutorial/2018-02-06/python-excepthook-logging/)"
   ]
  },
  {
   "cell_type": "markdown",
   "metadata": {
    "slideshow": {
     "slide_type": "skip"
    }
   },
   "source": [
    "## Not to incorporate\n",
    "\n",
    "### Recoverability 🩹\n",
    "\n",
    "\n",
    "- How do i recover\n",
    "   - abandonment isolate at the process level\n",
    "       - what level of isolation makes sense for me\n",
    "       - how can  you make sure all bad state is cleared away to retry\n",
    "       \n",
    "- what is recoverable:\n",
    "    - network flakiness\n",
    "    - database out of connection\n",
    "    - disk unavailable\n",
    "    - recoverable database out of connections\n",
    "\n",
    "### Concurrent/Parallal Exception handling 🎸🎺🎻🎷\n",
    "- **Multi-threading/processing** [1](https://stackoverflow.com/questions/51071378/exception-handling-in-concurrent-futures-executor-map), [2](https://docs.python.org/3/library/concurrent.futures.html)\n",
    "- **Async** [1](https://stackoverflow.com/questions/30361824/asynchronous-exception-handling-in-python),[2](https://www.roguelynn.com/words/asyncio-exception-handling/), [3](https://medium.com/@yeraydiazdiaz/asyncio-coroutine-patterns-errors-and-cancellation-3bb422e961ff)\n",
    "\n",
    "### Error codes 👾\n",
    "- WITHIN a program one should always use exceptions instead of error codes. However, exceptions can't propagate beyond a program. Any time the error must leave the program you are left with error messages or error codes.\n",
    "\n",
    "- In high-level stuff, exceptions; in low-level stuff, error codes.\n",
    "\n",
    "- If, however, I'm writing a piece of code which I must know the behaviour of in every possible situation, then I want error codes. Otherwise I have to know every exception that can be thrown by every line in my function to know what it will do (Read The Exception That Grounded an Airline to get an idea of how tricky this is). \n",
    "\n",
    "- It's tedious and hard to write code that reacts appropriately to every situation (including the unhappy ones), but that's because writing error-free code is tedious and hard, not because you're passing error code\n",
    "\n",
    "- Error codes are almost the last thing that you want to see in an API response. Generally speaking, it means one of two things — something was so wrong in your request or your handling that the API simply couldn’t parse the passed data, or the API itself has so many problems that even the most well-formed request is going to fail. In either situation, traffic comes crashing to a halt, and the process of discovering the cause and solution begins.\n",
    "\n",
    "- That being said, errors, whether in code form or simple error response, are a bit like getting a shot — unpleasant, but incredibly useful. Error codes are probably the most useful diagnostic element in the API space, and this is surprising, given how little attention we often pay them.\n",
    "\n",
    "- In general, the goal with error responses is to create a source of information to not only inform the user of a problem, but of the solution to that problem as well. Simply stating a problem does nothing to fix it – and the same is true of API failures.\n",
    "\n",
    "\n",
    "- [1](https://docs.python.org/3.8/library/errno.html),[2](https://medium.com/vaidikkapoor/understanding-non-blocking-i-o-with-python-part-1-ec31a2e2db9b),[3](https://nordicapis.com/best-practices-api-error-handling/),[4](https://stackoverflow.com/questions/253314/conventions-for-exceptions-or-error-codes),[5](https://www.joelonsoftware.com/2003/10/13/13/)\n",
    "\n",
    "## [Release it](https://github.com/singh4java/Books/blob/master/Release%20It!%20Design%20and%20Deploy%20Production-Ready%20Software.pdf) 📪\n",
    "\n",
    "- If, however, I'm writing a piece of code which I must know the behaviour of in every possible situation, then I want error codes. Otherwise I have to know every exception that can be thrown by every line in my function to know what it will do (Read The Exception That Grounded an Airline to get an idea of how tricky this is). \n",
    "\n",
    "- It's tedious and hard to write code that reacts appropriately to every situation (including the unhappy ones), but that's because writing error-free code is tedious and hard, not because you're passing error code\n",
    "\n",
    "\n",
    "- not speak on arcitecual  patterns\n",
    "\n",
    "- you can always reboot the world by restarding every single server layer by layer thats almost always effectove but takes long time\n",
    "\n",
    "\n",
    "- its like a doctor diagnosing desease, theyou could treat a patient,\n",
    "\n",
    "\n",
    "- counter integration point with circuit breaker and decoupling middleware\n",
    "\n",
    "- a cascading failure happens after something else already gone wrong. circuit breaker protect your system by avoiding calls out to the troubled integration point. using timeout ensure that you can come back from a call out to the troubled one"
   ]
  },
  {
   "cell_type": "markdown",
   "metadata": {
    "slideshow": {
     "slide_type": "skip"
    }
   },
   "source": [
    "- We can add the traceback using exc_info=True."
   ]
  }
 ],
 "metadata": {
  "celltoolbar": "Slideshow",
  "kernelspec": {
   "display_name": "Python 3",
   "language": "python",
   "name": "python3"
  },
  "language_info": {
   "codemirror_mode": {
    "name": "ipython",
    "version": 3
   },
   "file_extension": ".py",
   "mimetype": "text/x-python",
   "name": "python",
   "nbconvert_exporter": "python",
   "pygments_lexer": "ipython3",
   "version": "3.7.4"
  }
 },
 "nbformat": 4,
 "nbformat_minor": 4
}
