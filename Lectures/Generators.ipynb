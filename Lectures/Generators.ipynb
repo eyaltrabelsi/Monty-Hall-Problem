{
 "cells": [
  {
   "cell_type": "code",
   "execution_count": 119,
   "metadata": {},
   "outputs": [
    {
     "name": "stdout",
     "output_type": "stream",
     "text": [
      "The memory_profiler extension is already loaded. To reload it, use:\n",
      "  %reload_ext memory_profiler\n"
     ]
    }
   ],
   "source": [
    "%load_ext memory_profiler\n",
    "\n",
    "import itertools"
   ]
  },
  {
   "cell_type": "code",
   "execution_count": 112,
   "metadata": {},
   "outputs": [],
   "source": [
    "def generators(numbers):\n",
    "    for num in numbers:\n",
    "        if num % 7 or \"7\" in str(num):\n",
    "            yield num"
   ]
  },
  {
   "cell_type": "code",
   "execution_count": 113,
   "metadata": {},
   "outputs": [],
   "source": [
    "def iterators(numbers):\n",
    "    even = []\n",
    "    for num in list(numbers):\n",
    "        if num % 7 or \"7\" in str(num):\n",
    "            even.append(num)    \n",
    "    return even"
   ]
  },
  {
   "cell_type": "markdown",
   "metadata": {},
   "source": [
    "## Memory of Genrators Vs Iterators 😇"
   ]
  },
  {
   "cell_type": "markdown",
   "metadata": {},
   "source": [
    "- For the generator's work, you need to keep in memory the variables of the generator function.\n",
    "- But you don't have to keep the entire collection in memory, so usually this is EXACTLY the trade-off you want to make."
   ]
  },
  {
   "cell_type": "code",
   "execution_count": 114,
   "metadata": {},
   "outputs": [
    {
     "name": "stdout",
     "output_type": "stream",
     "text": [
      "4711503365894179\n",
      "peak memory: 6958.47 MiB, increment: 0.00 MiB\n"
     ]
    }
   ],
   "source": [
    "%%memit\n",
    "g = generators(range(10**8))\n",
    "print(sum(g))"
   ]
  },
  {
   "cell_type": "code",
   "execution_count": 115,
   "metadata": {},
   "outputs": [
    {
     "name": "stdout",
     "output_type": "stream",
     "text": [
      "4711503365894179\n",
      "peak memory: 8475.12 MiB, increment: 1644.42 MiB\n"
     ]
    }
   ],
   "source": [
    "%%memit\n",
    "i = iterators(range(10**8))\n",
    "print(sum(i))"
   ]
  },
  {
   "cell_type": "markdown",
   "metadata": {},
   "source": [
    "## Performance of Genrators Vs Iterators 😃"
   ]
  },
  {
   "cell_type": "code",
   "execution_count": 116,
   "metadata": {},
   "outputs": [
    {
     "name": "stdout",
     "output_type": "stream",
     "text": [
      "4711503365894179\n",
      "CPU times: user 599 ms, sys: 2.03 ms, total: 601 ms\n",
      "Wall time: 599 ms\n"
     ]
    }
   ],
   "source": [
    "%%time\n",
    "g = generators(range(10**8))\n",
    "print(sum(i))"
   ]
  },
  {
   "cell_type": "code",
   "execution_count": 117,
   "metadata": {},
   "outputs": [
    {
     "name": "stdout",
     "output_type": "stream",
     "text": [
      "4711503365894179\n",
      "CPU times: user 13.4 s, sys: 482 ms, total: 13.9 s\n",
      "Wall time: 13.9 s\n"
     ]
    }
   ],
   "source": [
    "%%time\n",
    "i = iterators(range(10**8))\n",
    "print(sum(i))"
   ]
  },
  {
   "cell_type": "markdown",
   "metadata": {},
   "source": [
    "## Consumed once 😱"
   ]
  },
  {
   "cell_type": "markdown",
   "metadata": {},
   "source": [
    "Every time you want to reuse the elements in a collection it must be regenerated.\n"
   ]
  },
  {
   "cell_type": "code",
   "execution_count": 120,
   "metadata": {},
   "outputs": [
    {
     "name": "stdout",
     "output_type": "stream",
     "text": [
      "First consumption: 4711503365894179\n",
      "Second consumption: 0\n"
     ]
    }
   ],
   "source": [
    "g = generators(range(10**8))\n",
    "print(f\"First consumption: {sum(g)}\")\n",
    "print(f\"Second consumption: {sum(g)}\")"
   ]
  },
  {
   "cell_type": "code",
   "execution_count": 121,
   "metadata": {},
   "outputs": [
    {
     "name": "stdout",
     "output_type": "stream",
     "text": [
      "First consumption: 4711503365894179\n",
      "Second consumption: 4711503365894179\n"
     ]
    }
   ],
   "source": [
    "g = generators(range(10**8))\n",
    "g1, g2 = itertools.tee(g, 2)\n",
    "print(f\"First consumption: {sum(g1)}\")\n",
    "print(f\"Second consumption: {sum(g2)}\")"
   ]
  },
  {
   "cell_type": "markdown",
   "metadata": {},
   "source": [
    "## In High Level"
   ]
  },
  {
   "cell_type": "markdown",
   "metadata": {},
   "source": [
    "- Essentially it boils down to a discussion about Lazy vs Eager evaluation.\n",
    "- You trade-off CPU overhead for the capability of streaming processing (as opposed to bulk-processing with eager evaluation).\n",
    "- The code can become a bit more tricky to read if using a lazy approach, so there could be a trade-off between performance and simplicity there as well."
   ]
  },
  {
   "cell_type": "code",
   "execution_count": null,
   "metadata": {},
   "outputs": [],
   "source": []
  }
 ],
 "metadata": {
  "kernelspec": {
   "display_name": "Python 3",
   "language": "python",
   "name": "python3"
  },
  "language_info": {
   "codemirror_mode": {
    "name": "ipython",
    "version": 3
   },
   "file_extension": ".py",
   "mimetype": "text/x-python",
   "name": "python",
   "nbconvert_exporter": "python",
   "pygments_lexer": "ipython3",
   "version": "3.7.4"
  }
 },
 "nbformat": 4,
 "nbformat_minor": 4
}
