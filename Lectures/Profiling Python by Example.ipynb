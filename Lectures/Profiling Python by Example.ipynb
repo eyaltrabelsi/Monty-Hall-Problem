{
 "cells": [
  {
   "cell_type": "markdown",
   "metadata": {
    "slideshow": {
     "slide_type": "slide"
    }
   },
   "source": [
    "# Profiling Python by Example \n",
    "## Eyal Trabelsi"
   ]
  },
  {
   "cell_type": "markdown",
   "metadata": {
    "slideshow": {
     "slide_type": "slide"
    }
   },
   "source": [
    "# About Me 🙈\n"
   ]
  },
  {
   "cell_type": "markdown",
   "metadata": {
    "slideshow": {
     "slide_type": "fragment"
    }
   },
   "source": [
    "- Software Engineer at Salesforce 👷"
   ]
  },
  {
   "cell_type": "markdown",
   "metadata": {
    "slideshow": {
     "slide_type": "fragment"
    }
   },
   "source": [
    "- Big passion for python, data and performance optimisations 🐍🤖"
   ]
  },
  {
   "cell_type": "markdown",
   "metadata": {
    "slideshow": {
     "slide_type": "fragment"
    }
   },
   "source": [
    "- Online at [medium](https://medium.com/@Eyaltra) | [twitter](https://twitter.com/eyaltra) 🌐"
   ]
  },
  {
   "cell_type": "markdown",
   "metadata": {
    "slideshow": {
     "slide_type": "slide"
    }
   },
   "source": [
    "# Performance?! Why ?🤨"
   ]
  },
  {
   "cell_type": "markdown",
   "metadata": {
    "slideshow": {
     "slide_type": "fragment"
    }
   },
   "source": [
    "- Fast is better than slow 🐇\n"
   ]
  },
  {
   "cell_type": "markdown",
   "metadata": {
    "slideshow": {
     "slide_type": "fragment"
    }
   },
   "source": [
    "- Memory efficiency is good 💾\n"
   ]
  },
  {
   "cell_type": "markdown",
   "metadata": {
    "slideshow": {
     "slide_type": "fragment"
    }
   },
   "source": [
    "- Saving money is awesome [💸](https://aws.amazon.com/ec2/pricing/on-demand/)\n"
   ]
  },
  {
   "cell_type": "markdown",
   "metadata": {
    "slideshow": {
     "slide_type": "fragment"
    }
   },
   "source": [
    "- Hardware will only take you so far 💻"
   ]
  },
  {
   "cell_type": "markdown",
   "metadata": {
    "slideshow": {
     "slide_type": "fragment"
    }
   },
   "source": [
    "![](https://vignette.wikia.nocookie.net/memepediadankmemes/images/8/80/Acb.jpg/revision/latest/scale-to-width-down/340?cb=20180822064733)"
   ]
  },
  {
   "cell_type": "markdown",
   "metadata": {
    "slideshow": {
     "slide_type": "slide"
    }
   },
   "source": [
    "# When ⏰"
   ]
  },
  {
   "cell_type": "markdown",
   "metadata": {
    "slideshow": {
     "slide_type": "notes"
    }
   },
   "source": [
    "- since program readability is our top priority, as python aim to make the programmer life easier, we should only optimize our code when needed.\n",
    "\n",
    "- so  in other words All optimization are premature.\n",
    "- unless\n"
   ]
  },
  {
   "cell_type": "markdown",
   "metadata": {
    "slideshow": {
     "slide_type": "fragment"
    }
   },
   "source": [
    "- Program doesn't meet requirements 🚔\n"
   ]
  },
  {
   "cell_type": "markdown",
   "metadata": {
    "slideshow": {
     "slide_type": "notes"
    }
   },
   "source": [
    "- wheter its too slow for the user\n",
    "- or whether its take too much memory"
   ]
  },
  {
   "cell_type": "markdown",
   "metadata": {
    "slideshow": {
     "slide_type": "fragment"
    }
   },
   "source": [
    "- Program execution affects development pace 👷\n"
   ]
  },
  {
   "cell_type": "markdown",
   "metadata": {
    "slideshow": {
     "slide_type": "fragment"
    }
   },
   "source": [
    "\n",
    "- [Well Tested](https://www.youtube.com/watch?v=ARKbfWk4Xyw)"
   ]
  },
  {
   "cell_type": "markdown",
   "metadata": {
    "slideshow": {
     "slide_type": "subslide"
    }
   },
   "source": [
    "![](https://i.redd.it/8ku1ygqwuuj11.jpg)"
   ]
  },
  {
   "cell_type": "markdown",
   "metadata": {},
   "source": [
    "##  Performance types\n",
    "what is fast\n",
    "1.latency response time 200 miliseconds client roundtrip\n",
    "2.throughput successful trafic flow 200 requests per seconds\n",
    "3.effieency utilization and return on investment 2000 users per 4 core VM at 50 prect cpu\n"
   ]
  },
  {
   "cell_type": "markdown",
   "metadata": {},
   "source": [
    "## What is profiling \n",
    "\n",
    "what is a program profile\n",
    "a profile is a set of statistics that descriubes how often and for how long various parsts of the programs executed\n",
    "\n",
    "\n",
    "What is profiled\n",
    "cpu usage\n",
    "ram usage\n",
    "io or netweork bandwitch\n",
    "\n",
    "\n"
   ]
  },
  {
   "cell_type": "markdown",
   "metadata": {},
   "source": [
    " ## Type of profilers\n",
    "    \n",
    "event based profiling\n",
    "- track events such as : call return exection etc\n",
    "- deterministic \n",
    "- slow - significant overhead\n",
    "- examples cprofile line_profilers etc\n",
    "\n",
    "statistical profilers\n",
    "- sample data\n",
    "- probe call stack periodically\n",
    "- non deterministic\n",
    "- slightly lower accuracy (profiler for longer)\n",
    "- marginal overhead (run in production)\n",
    "- example stacksampler vmprof\n",
    "\n",
    "\n",
    "statistical profiler\n",
    "    - low controllable and predicted overhead is possible by optimizing the sampling interval\n",
    "    - less accurate results since it by design missing function/line call\n",
    "    - more suitable for continuous low impact production monitoringv\n",
    "\n",
    "\n",
    "deterministic profilers\n",
    "    introce fixed amount of latency for every function call line code executed\n",
    "    collect the exact program execution stack\n",
    "    more suitable for interactive local debugger\n",
    "    \n",
    "\n",
    "which granularity \n",
    "application level\n",
    "method level \n",
    "line level"
   ]
  },
  {
   "cell_type": "markdown",
   "metadata": {},
   "source": [
    "## time\n",
    "the secrets of time\n",
    "real is the wall clock time from start oto finish of the call\n",
    "user is the amount of cpui time spent in user mode code withing the process ( outside the kernal)\n",
    "sys is the amount of cpu spent in the kernal (io memory alocation)\n"
   ]
  },
  {
   "cell_type": "markdown",
   "metadata": {},
   "source": [
    "## Timeit\n",
    "\n",
    "the timeit module\n",
    "built in \n",
    "does multiple run to offset system variability\n",
    "each run does thousand or milions of repetitions compensating for very fast operations\n",
    "\n",
    "it disable grarbage collection for consistency\n",
    "\n",
    "has jupyter built in support\n",
    "\n",
    "\n",
    "\n",
    "notable successor perf\n",
    "run separate processes \n",
    "somewhat more statistical"
   ]
  },
  {
   "cell_type": "markdown",
   "metadata": {},
   "source": [
    "## Deterministic profilers\n",
    "\n",
    "cprofile a deterministic profiler\n",
    "built in to python \n",
    "traces evedrey function call in a program \n",
    "by default measrues process CPU\n",
    "you probably dont want to use it\n",
    "uuse custom cost metrics\n",
    "    not cpu \n",
    "        number of context switches\n",
    "        memory aloccations\n",
    "        \n",
    "cprofile measure only cpu\n",
    "       \n",
    "       \n",
    "       cprofile\n",
    "       measure a whole thread of execution\n",
    "       identifiy time consuming functions \n",
    "       command line interface / jupyter"
   ]
  },
  {
   "cell_type": "markdown",
   "metadata": {},
   "source": [
    "## Statistical profiler\n",
    "stacksampler github.com/nylas/nylas-perftools\n",
    "records stack every 5ms\n",
    "emits data over \n",
    "fuzzy flame graphs\n",
    "\n",
    "\n",
    "\n",
    "pyinstrument the output\n",
    "measuring wall clock time\n",
    "how it works\n",
    "    every 1ms see what function the process is currently running\n",
    "    if a function is cumulavily slow it will show up often \n",
    "    if a function is fast we wont see it at all\n",
    "solves probvlem 1 high overhead and distorted results\n",
    "solves problem 2 overwhelming details\n",
    "measure elapsed wallclock time not cpu time\n"
   ]
  },
  {
   "cell_type": "markdown",
   "metadata": {},
   "source": [
    "\n",
    "line profiler\n",
    "\n",
    "yap function oriented profiler tjaht crosses the python c boundary\n",
    "\n",
    "\n",
    "no silver bullets\n",
    "measure optimize and perform\n",
    "\n",
    "\n",
    "\n",
    "profilng tools\n",
    "casual profiling\n",
    "time\n",
    "timeit\n",
    "\n",
    "offline profiling involves hypotetical scenrios historical data and performance sacrifice \n",
    "cprofile\n",
    "other advance options\n",
    "\n",
    "online profiling imperceptiable performance impact\n",
    "live data collection in real time\n",
    "requires more time to be accurate\n",
    "\n",
    "\n",
    "\n",
    "good enough is good enough\n",
    "parts of ur program slowed  down and parst didnt\n",
    "\n",
    "profile in production\n",
    "synthetic benchmarks are not enough\n",
    "\n",
    "\n",
    "finding what to fix is harder than fixing it\n",
    "\n",
    "there are always low hanging fruits\n",
    "\n",
    "watch for performance regressions\n",
    "\n",
    "deterministic profilers introduces a fixed amount of latency for every function call/line of code executed    \n",
    "\n",
    "analysing performance is hard\n",
    "\n",
    "\n",
    "\n",
    "cprofile problem 2 too much information\n",
    "- profile every single functioon call\n",
    "- so the output include every signle function\n",
    "- lots of noise very little signal\n",
    "\n",
    "\n",
    "cprofile problem 3 offline measure of performance\n",
    "- your program may be slow when run in real world\n",
    "- but cprofile hash enough overhead you dont want to run it in production\n",
    "- suitable for local execution\n",
    "\n",
    "\n",
    "\n",
    "    \n",
    "problem 1 high overhead and distorted results\n",
    "\n",
    "profilers are insufficent 1\n",
    "only support single process not distributed systems\n",
    "\n",
    "profilers are insufficent 2\n",
    "profilers cant tell you which inputs are slow\n",
    "\n",
    "f() may be fast on some inputs but slow on others\n",
    "profilers just tells you f() is slowish\n",
    "\n",
    "insufficent 4\n",
    "measures slowness on a function level \n",
    "sometimes thje argumentets determine spead \n",
    "cprofile only tells you slowfun is slow averaging. all inputs outs\n",
    "\n",
    "\n",
    "when should use each\n",
    "alwats add logging\n",
    "use pyinstrument or other sampling profiler as default profiler\n",
    "use cprofile if u need a custom profiler"
   ]
  },
  {
   "cell_type": "markdown",
   "metadata": {},
   "source": [
    "## Logging \n",
    "\n",
    "eilopt a logging library \n",
    "solver the problem 3 can be used in production\n",
    "solve problem 4 can record arguments to functions\n",
    "\n",
    "always add logging\n",
    "its probably not enough\n",
    "but invaluable in catching real world performance problems\n",
    "and catching other bugs as well\n",
    "limitation 1 need to add logging in advance you need to guess where logging and where usefulll\n",
    "if u diddnty add logging you are out of luck\n",
    "\n",
    "\n",
    "\n",
    "eilot supports a range of use cases and 3rd party libraries\n",
    "logging withing single process\n",
    "casual tracing across distributed system\n",
    "scientific computing with built in support for numpy and dask\n",
    "async io and trio coroutines\n",
    "\n",
    "\n",
    "eilot limitation 2 high overhead\n",
    "- every log message adds overhead\n",
    "- rather more than cprofile\n",
    "- thus cant add logging everywhere\n",
    "\n",
    "\n",
    "need to be add upfront\n"
   ]
  },
  {
   "cell_type": "markdown",
   "metadata": {},
   "source": [
    "## Scaling\n",
    "\n",
    "    \n",
    "\n",
    "### scaling strategies\n",
    "- add more hardware\n",
    "- rearchitect to divide work\n",
    "        bad\n",
    "        easy to mess up\n",
    "            short-term correctness\n",
    "            long-term extensibility\n",
    "        now u have n**2 problems\n",
    "        \n",
    "        good\n",
    "        easy to explain principle\n",
    "        many soa technolegies\n",
    "- adopt the async approch\n",
    "        bad\n",
    "        dramatically change application\n",
    "        complicates code especially debugging\n",
    "        limits off the shelf library usage\n",
    "        \n",
    "        good\n",
    "        many libraries exists\n",
    "        great way to learn about operating systems\n",
    "- smart algorithms\n",
    "        bad\n",
    "        might be hard to find\n",
    "        opten takes time to udnerstand\n",
    "        language specific algorithms\n",
    "        \n",
    "        good\n",
    "        python is runnable pseudocode\n",
    "        many books and wikipedia articles\n",
    "        good for those interview questions\n",
    "    \n",
    "- write faster python\n",
    "- build native python extensions\n",
    "        bad\n",
    "        c has riskier \n",
    "        take longer to get right\n",
    "        complicated buil;d and deployment\n",
    "        \n",
    "        good\n",
    "        c has 2-10x less overhead\n",
    "        integrate with c open source ecosystem\n",
    "        cpython is clean idiomatic c\n",
    "        cython is mature and greatly helpful\n",
    "- use a library with faster implementations\n",
    "- use different python runtime\n",
    "        bad\n",
    "        drastically changes deployemnt\n",
    "        architecture and environment limits\n",
    "        libraries are often incompatible\n",
    "        all large projects will need code rework\n",
    "        \n",
    "        good\n",
    "        2-10x speedups depending\n",
    "        easy to test for simple projects\n",
    "        work with cool new features\n",
    "        great for blog posts\n",
    "    \n",
    "\n",
    "    \n",
    "    \n",
    "\n",
    "#### predictabilit is power\n",
    "- automated tests first then benchmark\n",
    "- test after every optimization\n",
    "remmeber optimize code is:\n",
    "- harder to write and read\n",
    "- less maintainable\n",
    "- buggier, more brittle\n",
    "    \n",
    "    \n",
    "#### Good work takes cycles\n",
    "- healthy enterprise application have bige bones\n",
    "- gather requirements , there are some parts you won't be able to touch\n",
    "- establish percentile SLAs: 50, 95, 99 max\n",
    "\n",
    "good enough is good enough\n",
    "    \n",
    "    "
   ]
  },
  {
   "cell_type": "markdown",
   "metadata": {
    "slideshow": {
     "slide_type": "slide"
    }
   },
   "source": [
    "# Additional Resources 📚"
   ]
  },
  {
   "cell_type": "markdown",
   "metadata": {
    "slideshow": {
     "slide_type": "fragment"
    }
   },
   "source": [
    "- [Advanced Python Profiling](https://www.youtube.com/watch?v=DUCMjsrYSrQ)✅\n",
    "- [Python profiling and performance tuning in production](https://www.youtube.com/watch?v=bectZn_yNwg)✅\n",
    "- [Performance optimization: how do I go about it?](https://www.youtube.com/watch?v=hOajLLej68Y)✅\n",
    "- [Python Profiling & Performance: elementary to enterprise](https://www.youtube.com/watch?v=Dgnp28Ijm_M) ✅\n",
    "- [Beyond cProfile: performance optimization with sampling profilers and logging](https://www.youtube.com/watch?v=fOzVTPOWfQs)✅"
   ]
  },
  {
   "cell_type": "markdown",
   "metadata": {
    "slideshow": {
     "slide_type": "slide"
    }
   },
   "source": [
    "![](https://i.pinimg.com/originals/b9/0a/79/b90a79b4c361d079144597d0bcdd61de.jpg)"
   ]
  }
 ],
 "metadata": {
  "celltoolbar": "Slideshow",
  "kernelspec": {
   "display_name": "Python 3",
   "language": "python",
   "name": "python3"
  },
  "language_info": {
   "codemirror_mode": {
    "name": "ipython",
    "version": 3
   },
   "file_extension": ".py",
   "mimetype": "text/x-python",
   "name": "python",
   "nbconvert_exporter": "python",
   "pygments_lexer": "ipython3",
   "version": "3.7.4"
  }
 },
 "nbformat": 4,
 "nbformat_minor": 4
}
