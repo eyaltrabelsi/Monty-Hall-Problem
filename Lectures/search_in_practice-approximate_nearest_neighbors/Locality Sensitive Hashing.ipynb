{
 "cells": [
  {
   "cell_type": "code",
   "execution_count": 1,
   "metadata": {},
   "outputs": [
    {
     "name": "stderr",
     "output_type": "stream",
     "text": [
      "Loading faiss.\n"
     ]
    }
   ],
   "source": [
    "import pickle\n",
    "import faiss"
   ]
  },
  {
   "cell_type": "code",
   "execution_count": 2,
   "metadata": {},
   "outputs": [
    {
     "data": {
      "text/plain": [
       "{'name': array(['Toy Story (1995)', 'GoldenEye (1995)', 'Four Rooms (1995)', ...,\n",
       "        'Sliding Doors (1998)', 'You So Crazy (1994)',\n",
       "        'Scream of Stone (Schrei aus Stein) (1991)'], dtype=object),\n",
       " 'vector': array([[-0.01780608, -0.14265831,  0.10308606, ...,  0.09659795,\n",
       "         -0.17529577, -0.03061521],\n",
       "        [-0.03357764,  0.16418771,  0.21801303, ...,  0.16502103,\n",
       "         -0.09166156,  0.05047869],\n",
       "        [-0.2761452 , -0.01991325, -0.04969981, ...,  0.0258275 ,\n",
       "         -0.08328608, -0.0152858 ],\n",
       "        ...,\n",
       "        [ 0.05142734, -0.01683608, -0.20441587, ...,  0.00045828,\n",
       "          0.14679626,  0.2462584 ],\n",
       "        [ 0.04491899, -0.02819411, -0.09472758, ..., -0.02152078,\n",
       "          0.16223577,  0.19897607],\n",
       "        [ 0.02531924,  0.03099714,  0.06437534, ..., -0.07260127,\n",
       "          0.0467432 ,  0.07893164]], dtype=float32)}"
      ]
     },
     "execution_count": 2,
     "metadata": {},
     "output_type": "execute_result"
    }
   ],
   "source": [
    "def load_data():\n",
    "    with open('movies.pickle', 'rb') as f:\n",
    "        data = pickle.load(f)\n",
    "    return data\n",
    "\n",
    "data = load_data()\n",
    "data"
   ]
  },
  {
   "cell_type": "code",
   "execution_count": 3,
   "metadata": {},
   "outputs": [],
   "source": [
    "# class FalconIndex():\n",
    "#     def __init__(self, vectors, labels):\n",
    "#         self.dimention = vectors.shape[1]\n",
    "#         self.vectors = vectors.astype('float32')\n",
    "#         self.labels = labels\n",
    "\n",
    "\n",
    "#     def build(self, number_of_partition=8, search_in_x_partitions=2, subvector_size=8):\n",
    "#         quantizer = faiss.IndexFlatL2(self.dimention)\n",
    "#         self.index = faiss.IndexIVFPQ(quantizer, self.dimention, number_of_partition, search_in_x_partitions, subvector_size)\n",
    "#         self.index.train(self.vectors)\n",
    "#         self.index.add(self.vectors)\n",
    "        \n",
    "#     def query(self, vectors, k=10):\n",
    "#         distances, indices = self.index.search(vectors, k) \n",
    "#         return [self.labels[i] for i in indices[0]]\n",
    "# # https://github.com/erikbern/ann-benchmarks/commit/ecc56def165234fbec830fd1eed44396a1a52c49\n",
    "# https://github.com/nmslib/nmslib/tree/master/python_bindings"
   ]
  },
  {
   "cell_type": "code",
   "execution_count": 4,
   "metadata": {},
   "outputs": [],
   "source": [
    "# index = IVPQIndex(data[\"vector\"], data[\"name\"])\n",
    "# index.build()"
   ]
  },
  {
   "cell_type": "code",
   "execution_count": 5,
   "metadata": {},
   "outputs": [
    {
     "name": "stdout",
     "output_type": "stream",
     "text": [
      "The most similar movies to Nightmare Before Christmas, The (1993) are:\n",
      "* Nightmare Before Christmas, The (1993)\n",
      "* Fantasia (1940)\n",
      "* Brazil (1985)\n",
      "* Monty Python's Life of Brian (1979)\n",
      "* This Is Spinal Tap (1984)\n",
      "* Hunt for Red October, The (1990)\n",
      "* Sneakers (1992)\n",
      "* Lion King, The (1994)\n",
      "* Clockwork Orange, A (1971)\n",
      "* Full Metal Jacket (1987)\n"
     ]
    }
   ],
   "source": [
    "# movie_vector, movie_name = data['vector'][90:91], data['name'][90]\n",
    "# simlar_movies_names = '\\n* '.join(index.query(movie_vector))\n",
    "# print(f\"The most similar movies to {movie_name} are:\\n* {simlar_movies_names}\")"
   ]
  },
  {
   "cell_type": "code",
   "execution_count": null,
   "metadata": {},
   "outputs": [],
   "source": []
  }
 ],
 "metadata": {
  "kernelspec": {
   "display_name": "Python 3",
   "language": "python",
   "name": "python3"
  },
  "language_info": {
   "codemirror_mode": {
    "name": "ipython",
    "version": 3
   },
   "file_extension": ".py",
   "mimetype": "text/x-python",
   "name": "python",
   "nbconvert_exporter": "python",
   "pygments_lexer": "ipython3",
   "version": "3.7.4"
  }
 },
 "nbformat": 4,
 "nbformat_minor": 2
}
