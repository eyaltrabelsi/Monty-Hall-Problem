{
 "cells": [
  {
   "cell_type": "markdown",
   "metadata": {
    "run_control": {
     "frozen": false,
     "read_only": false
    }
   },
   "source": [
    "# Data Munging"
   ]
  },
  {
   "cell_type": "markdown",
   "metadata": {
    "ExecuteTime": {
     "end_time": "2016-12-24T23:18:33.461576",
     "start_time": "2016-12-24T23:18:33.456396"
    },
    "run_control": {
     "frozen": false,
     "read_only": false
    }
   },
   "source": [
    "- Data Munging\n",
    "    - Missing values\n",
    "    - Data Enrichments\n",
    "    - Data Melting\n",
    "    - Clean unicode\n",
    "    - Feature Engineering and Variables Transformations \n",
    "\n",
    "- Model builtding\n",
    "    - Data encoding\n",
    "    - Feature scaling\n",
    "    - Feature Selections\n",
    "\n"
   ]
  },
  {
   "cell_type": "markdown",
   "metadata": {
    "ExecuteTime": {
     "end_time": "2016-12-24T23:04:56.797072",
     "start_time": "2016-12-24T23:04:56.790884"
    },
    "run_control": {
     "frozen": false,
     "read_only": false
    }
   },
   "source": [
    "\n",
    "<br/><br/><img src='resources/data_munging.jpeg' width=360 align=\"left\"></img><br/><br/>\n"
   ]
  },
  {
   "cell_type": "markdown",
   "metadata": {
    "run_control": {
     "frozen": false,
     "read_only": false
    }
   },
   "source": [
    "## Missing Values\n"
   ]
  },
  {
   "cell_type": "markdown",
   "metadata": {
    "run_control": {
     "frozen": false,
     "read_only": false
    }
   },
   "source": [
    "- missing values https://www.analyticsvidhya.com/blog/2016/01/guide-data-exploration/\n",
    "- http://analyticsdataexploration.com/missing-value-analysis-on-titanic-data-set-using-python/\n",
    "\n",
    "imputing https://github.com/rhiever/datacleaner\n",
    "    \n",
    "<br/><br/><img src='resources/missing_data.jpeg' width=300 align=\"left\"></img><br/><br/>\n"
   ]
  },
  {
   "cell_type": "markdown",
   "metadata": {
    "run_control": {
     "frozen": false,
     "read_only": false
    }
   },
   "source": [
    "## Variable Transformations and Feature engineering\n"
   ]
  },
  {
   "cell_type": "markdown",
   "metadata": {
    "run_control": {
     "frozen": false,
     "read_only": false
    }
   },
   "source": [
    "\n",
    "- text transfomations https://www.analyticsvidhya.com/blog/2014/11/text-data-cleaning-steps-python/\n",
    "- add sentiment\n",
    "\n",
    "\n",
    "\n",
    "- email validation http://stackoverflow.com/questions/8022530/python-check-for-valid-email-address\n",
    "- parsing usa address into its components using https://github.com/datamade/usaddress\n",
    "- parsing and phone numbers using https://github.com/daviddrysdale/python-phonenumbers\n",
    "- parsing names into name components using  https://github.com/datamade/probablepeople\n",
    "- parsing user agent into its components using https://github.com/selwin/python-user-agents\n",
    "- parsing url into its url components using https://github.com/unshiftio/url-parse\n",
    "\n",
    "\n",
    "\n",
    "\n",
    "\n",
    "\n",
    "\n",
    "\n",
    "Regular expressions: misspellings, regular expression patterns\n",
    "e\n",
    "https://www.analyticsvidhya.com/blog/2016/01/guide-data-exploration/\n"
   ]
  },
  {
   "cell_type": "markdown",
   "metadata": {
    "run_control": {
     "frozen": false,
     "read_only": false
    }
   },
   "source": [
    "## Data enrichment"
   ]
  },
  {
   "cell_type": "markdown",
   "metadata": {
    "run_control": {
     "frozen": false,
     "read_only": false
    }
   },
   "source": [
    "\n",
    "- parsing name into gender using https://github.com/ferhatelmas/sexmachine\n",
    "- parsing ip into location components using https://github.com/maxmind/geoip-api-python\n",
    "\n",
    "<br/><br/><img src='resources/data_enrichment.jpeg' width=360 align=\"left\"></img><br/><br/>\n"
   ]
  },
  {
   "cell_type": "code",
   "execution_count": null,
   "metadata": {
    "collapsed": true,
    "run_control": {
     "frozen": false,
     "read_only": false
    }
   },
   "outputs": [],
   "source": [
    "https://github.com/NathanEpstein/Dora\n",
    "    Feature Selection & Extraction\n"
   ]
  },
  {
   "cell_type": "code",
   "execution_count": null,
   "metadata": {
    "collapsed": true,
    "run_control": {
     "frozen": false,
     "read_only": false
    }
   },
   "outputs": [],
   "source": []
  },
  {
   "cell_type": "code",
   "execution_count": null,
   "metadata": {
    "collapsed": true,
    "run_control": {
     "frozen": false,
     "read_only": false
    }
   },
   "outputs": [],
   "source": [
    "\n",
    "    https://github.com/LuminosoInsight/python-ftfy\n",
    "        Given Unicode text, make its representation consistent and possibly less broken.\n",
    "\n",
    "        "
   ]
  },
  {
   "cell_type": "code",
   "execution_count": null,
   "metadata": {
    "collapsed": true,
    "run_control": {
     "frozen": false,
     "read_only": false
    }
   },
   "outputs": [],
   "source": []
  },
  {
   "cell_type": "code",
   "execution_count": null,
   "metadata": {
    "collapsed": true,
    "run_control": {
     "frozen": false,
     "read_only": false
    }
   },
   "outputs": [],
   "source": [
    "http://nbviewer.jupyter.org/github/rasbt/pattern_classification/blob/master/preprocessing/about_standardization_normalization.ipynb\n",
    "About Feature Scaling: Z-Score Standardization and Min-Max Scaling\n",
    "    "
   ]
  },
  {
   "cell_type": "code",
   "execution_count": null,
   "metadata": {
    "collapsed": true,
    "run_control": {
     "frozen": false,
     "read_only": false
    }
   },
   "outputs": [],
   "source": []
  },
  {
   "cell_type": "code",
   "execution_count": null,
   "metadata": {
    "collapsed": true,
    "run_control": {
     "frozen": false,
     "read_only": false
    }
   },
   "outputs": [],
   "source": [
    "https://github.com/NathanEpstein/Dora\n",
    "data versioning"
   ]
  }
 ],
 "metadata": {
  "kernelspec": {
   "display_name": "Python 2",
   "language": "python",
   "name": "python2"
  },
  "language_info": {
   "codemirror_mode": {
    "name": "ipython",
    "version": 2
   },
   "file_extension": ".py",
   "mimetype": "text/x-python",
   "name": "python",
   "nbconvert_exporter": "python",
   "pygments_lexer": "ipython2",
   "version": "2.7.11"
  }
 },
 "nbformat": 4,
 "nbformat_minor": 1
}
