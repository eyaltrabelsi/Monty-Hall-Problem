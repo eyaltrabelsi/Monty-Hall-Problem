{
 "cells": [
  {
   "cell_type": "markdown",
   "metadata": {},
   "source": [
    "# Data Munging"
   ]
  },
  {
   "cell_type": "markdown",
   "metadata": {
    "ExecuteTime": {
     "end_time": "2016-12-24T23:18:33.461576",
     "start_time": "2016-12-24T23:18:33.456396"
    }
   },
   "source": [
    "- Missing values\n",
    "- Variables Transformations\n",
    "- Feature Engineering\n",
    "- Feature Selections\n",
    "- Data Enrichments"
   ]
  },
  {
   "cell_type": "markdown",
   "metadata": {
    "ExecuteTime": {
     "end_time": "2016-12-24T23:04:56.797072",
     "start_time": "2016-12-24T23:04:56.790884"
    }
   },
   "source": [
    "\n",
    "<br/><br/><img src='resources/data_munging.jpeg' width=360 align=\"left\"></img><br/><br/>\n"
   ]
  },
  {
   "cell_type": "markdown",
   "metadata": {
    "run_control": {
     "frozen": false,
     "read_only": false
    }
   },
   "source": [
    "## Missing Values\n",
    "    "
   ]
  },
  {
   "cell_type": "markdown",
   "metadata": {
    "ExecuteTime": {
     "end_time": "2016-12-24T23:16:46.958006",
     "start_time": "2016-12-24T23:16:46.953972"
    }
   },
   "source": [
    "https://www.analyticsvidhya.com/blog/2016/01/guide-data-exploration/\n"
   ]
  },
  {
   "cell_type": "markdown",
   "metadata": {},
   "source": [
    "## Variable Transformations"
   ]
  },
  {
   "cell_type": "markdown",
   "metadata": {},
   "source": [
    "https://www.analyticsvidhya.com/blog/2016/01/guide-data-exploration/\n",
    "<br/><br/><img src='resources/missing_data.jpeg' width=300 align=\"left\"></img><br/><br/>\n"
   ]
  },
  {
   "cell_type": "markdown",
   "metadata": {},
   "source": [
    "## Data enrichment"
   ]
  },
  {
   "cell_type": "markdown",
   "metadata": {},
   "source": [
    "- parse usa address into its components using https://github.com/datamade/usaddress\n",
    "- email validation http://stackoverflow.com/questions/8022530/python-check-for-valid-email-address\n",
    "- parsing and phone numbers using https://github.com/daviddrysdale/python-phonenumbers\n",
    "- parse names into name components using  https://github.com/datamade/probablepeople\n",
    "- parsing ip into location components using https://github.com/maxmind/geoip-api-python\n",
    "- parsing user agent into its components using https://github.com/selwin/python-user-agents\n",
    "- parsing url into its url components using https://github.com/unshiftio/url-parse\n",
    "- parsing name into gender using https://github.com/ferhatelmas/sexmachine\n",
    "\n",
    "<br/><br/><img src='resources/data_enrichment.jpeg' width=360 align=\"left\"></img><br/><br/>\n"
   ]
  },
  {
   "cell_type": "code",
   "execution_count": null,
   "metadata": {
    "collapsed": true
   },
   "outputs": [],
   "source": []
  }
 ],
 "metadata": {
  "kernelspec": {
   "display_name": "Python 2",
   "language": "python",
   "name": "python2"
  },
  "language_info": {
   "codemirror_mode": {
    "name": "ipython",
    "version": 2
   },
   "file_extension": ".py",
   "mimetype": "text/x-python",
   "name": "python",
   "nbconvert_exporter": "python",
   "pygments_lexer": "ipython2",
   "version": "2.7.11"
  }
 },
 "nbformat": 4,
 "nbformat_minor": 1
}
