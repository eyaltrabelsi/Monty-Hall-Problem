{
 "cells": [
  {
   "cell_type": "markdown",
   "metadata": {},
   "source": [
    "# Ipython  Tricks,Snipets, Plugins and magics"
   ]
  },
  {
   "cell_type": "markdown",
   "metadata": {},
   "source": [
    "### Tricks"
   ]
  },
  {
   "cell_type": "code",
   "execution_count": null,
   "metadata": {
    "collapsed": true
   },
   "outputs": [],
   "source": [
    "naming notebook -> <date>-<developer>-<2-4 words desc>\n",
    "\n",
    "## Packages\n",
    "- [IPython Notebook best practices for data science](https://www.youtube.com/watch?v=JI1HWUAyJHE) `data science` `ipython notebook` `tips` \n"
   ]
  },
  {
   "cell_type": "markdown",
   "metadata": {
    "ExecuteTime": {
     "end_time": "2016-10-29T17:32:00.337830",
     "start_time": "2016-10-29T17:32:00.334129"
    }
   },
   "source": [
    "### Plugins"
   ]
  },
  {
   "cell_type": "markdown",
   "metadata": {
    "collapsed": false,
    "run_control": {
     "frozen": false,
     "read_only": false
    }
   },
   "source": [
    "**User input in notebook**  (can be cool trick when parameter passed to filter)"
   ]
  },
  {
   "cell_type": "code",
   "execution_count": 24,
   "metadata": {
    "ExecuteTime": {
     "end_time": "2016-10-29T17:27:34.994182",
     "start_time": "2016-10-29T17:27:34.931437"
    },
    "collapsed": false,
    "run_control": {
     "frozen": false,
     "read_only": false
    }
   },
   "outputs": [
    {
     "name": "stdout",
     "output_type": "stream",
     "text": [
      "hello\n",
      "time: 58 ms\n"
     ]
    }
   ],
   "source": [
    "from ipywidgets import interact\n",
    "\n",
    "@interact\n",
    "def echo(input_='hello'):\n",
    "    print input_"
   ]
  },
  {
   "cell_type": "markdown",
   "metadata": {
    "collapsed": false,
    "run_control": {
     "frozen": false,
     "read_only": false
    }
   },
   "source": [
    "**Using pivottablejs from notebook**\n"
   ]
  },
  {
   "cell_type": "code",
   "execution_count": 30,
   "metadata": {
    "ExecuteTime": {
     "end_time": "2016-10-29T17:27:48.172443",
     "start_time": "2016-10-29T17:27:48.136562"
    },
    "collapsed": false,
    "run_control": {
     "frozen": false,
     "read_only": false
    }
   },
   "outputs": [
    {
     "data": {
      "text/html": [
       "\n",
       "        <iframe\n",
       "            width=\"100%\"\n",
       "            height=\"500\"\n",
       "            src=\"pivottablejs.html\"\n",
       "            frameborder=\"0\"\n",
       "            allowfullscreen\n",
       "        ></iframe>\n",
       "        "
      ],
      "text/plain": [
       "<IPython.lib.display.IFrame at 0x10c4f4590>"
      ]
     },
     "execution_count": 30,
     "metadata": {},
     "output_type": "execute_result"
    },
    {
     "name": "stdout",
     "output_type": "stream",
     "text": [
      "time: 31.9 ms\n"
     ]
    }
   ],
   "source": [
    "import pandas as pd\n",
    "import numpy as np\n",
    "from pivottablejs import pivot_ui\n",
    "df = pd.DataFrame({ 'A' : 1.,\n",
    "                      'B' : pd.Timestamp('20130102'),\n",
    "                      'C' : pd.Series(1,index=list(range(4)),dtype='float32'),\n",
    "                      'D' : np.array([3] * 4,dtype='int32'),\n",
    "                      'E' : pd.Categorical([\"test\",\"train\",\"test\",\"train\"]),\n",
    "                      'F' : 'foo' })\n",
    "pivot_ui(df)"
   ]
  },
  {
   "cell_type": "markdown",
   "metadata": {
    "ExecuteTime": {
     "end_time": "2016-10-29T17:33:41.598621",
     "start_time": "2016-10-29T17:33:41.594514"
    }
   },
   "source": [
    "### Magic "
   ]
  },
  {
   "cell_type": "markdown",
   "metadata": {
    "collapsed": true,
    "run_control": {
     "frozen": false,
     "read_only": false
    }
   },
   "source": [
    "**Using beautifulsoup from notebook**\n",
    "\n",
    "\n"
   ]
  },
  {
   "cell_type": "code",
   "execution_count": 25,
   "metadata": {
    "ExecuteTime": {
     "end_time": "2016-10-29T17:27:36.800005",
     "start_time": "2016-10-29T17:27:35.528063"
    },
    "collapsed": false,
    "run_control": {
     "frozen": false,
     "read_only": false
    }
   },
   "outputs": [
    {
     "name": "stdout",
     "output_type": "stream",
     "text": [
      "The soup extension is already loaded. To reload it, use:\n",
      "  %reload_ext soup\n"
     ]
    },
    {
     "data": {
      "text/html": [
       "<div class=\"highlight\" style=\"background: #f8f8f8\"><pre style=\"line-height: 125%\"><span></span>&lt;<span style=\"color: #008000; font-weight: bold\">p</span>&gt;\n",
       " IPython-BeautifulSoup is an IPython extension for displaying\n",
       "BeautifulSoup HTML/XML objects as prettified and syntax highlighted HTML\n",
       "blocks in IPython notebook and qtconsole.\n",
       "&lt;/<span style=\"color: #008000; font-weight: bold\">p</span>&gt;\n",
       "</pre></div>\n",
       "<hr/>"
      ],
      "text/plain": [
       "<p>IPython-BeautifulSoup is an IPython extension for displaying\\nBeautifulSoup HTML/XML objects as prettified and syntax highlighted HTML\\nblocks in IPython notebook and qtconsole.</p>"
      ]
     },
     "execution_count": 25,
     "metadata": {},
     "output_type": "execute_result"
    },
    {
     "name": "stdout",
     "output_type": "stream",
     "text": [
      "time: 1.27 s\n"
     ]
    }
   ],
   "source": [
    "%load_ext soup\n",
    "soup = p('https://github.com/Psycojoker/ipython-beautifulsoup')\n",
    "soup('p')[1]"
   ]
  },
  {
   "cell_type": "markdown",
   "metadata": {},
   "source": [
    "** A collection of various different notebook extensions for Jupyter **"
   ]
  },
  {
   "cell_type": "markdown",
   "metadata": {},
   "source": [
    "https://github.com/ipython-contrib/jupyter_contrib_nbextensions"
   ]
  },
  {
   "cell_type": "markdown",
   "metadata": {
    "ExecuteTime": {
     "end_time": "2016-10-28T15:13:01.799422",
     "start_time": "2016-10-28T15:13:01.795112"
    },
    "collapsed": true,
    "run_control": {
     "frozen": false,
     "read_only": false
    }
   },
   "source": [
    "**profiling from notebook using snakeviz** (one can profile single line as well)"
   ]
  },
  {
   "cell_type": "code",
   "execution_count": 26,
   "metadata": {
    "ExecuteTime": {
     "end_time": "2016-10-29T17:27:36.806177",
     "start_time": "2016-10-29T17:27:36.801635"
    },
    "collapsed": false,
    "run_control": {
     "frozen": false,
     "read_only": false
    }
   },
   "outputs": [
    {
     "name": "stdout",
     "output_type": "stream",
     "text": [
      "The snakeviz extension is already loaded. To reload it, use:\n",
      "  %reload_ext snakeviz\n",
      "time: 1.34 ms\n"
     ]
    }
   ],
   "source": [
    "%load_ext snakeviz\n"
   ]
  },
  {
   "cell_type": "code",
   "execution_count": 27,
   "metadata": {
    "ExecuteTime": {
     "end_time": "2016-10-29T17:27:39.869966",
     "start_time": "2016-10-29T17:27:36.844298"
    },
    "collapsed": false,
    "run_control": {
     "frozen": false,
     "read_only": false
    }
   },
   "outputs": [
    {
     "name": "stdout",
     "output_type": "stream",
     "text": [
      " \n",
      "*** Profile stats marshalled to file u'/var/folders/h4/0z_vktm53_sgwx3v85n1_lyr0000gn/T/tmpN4qTyj'. \n",
      "time: 3.02 s\n"
     ]
    }
   ],
   "source": [
    "%%snakeviz\n",
    "for x in range(10000):\n",
    "    a= x*2"
   ]
  },
  {
   "cell_type": "markdown",
   "metadata": {
    "collapsed": false,
    "run_control": {
     "frozen": false,
     "read_only": false
    }
   },
   "source": [
    "\n",
    "**adding execution time to each cell** "
   ]
  },
  {
   "cell_type": "code",
   "execution_count": 28,
   "metadata": {
    "ExecuteTime": {
     "end_time": "2016-10-29T17:27:44.463367",
     "start_time": "2016-10-29T17:27:44.458743"
    },
    "collapsed": false,
    "run_control": {
     "frozen": false,
     "read_only": false
    }
   },
   "outputs": [
    {
     "name": "stdout",
     "output_type": "stream",
     "text": [
      "The autotime extension is already loaded. To reload it, use:\n",
      "  %reload_ext autotime\n",
      "time: 2.05 ms\n"
     ]
    }
   ],
   "source": [
    "%load_ext autotime\n"
   ]
  },
  {
   "cell_type": "markdown",
   "metadata": {
    "collapsed": true,
    "run_control": {
     "frozen": false,
     "read_only": false
    }
   },
   "source": [
    "**Using neo4j from notebook**\n"
   ]
  },
  {
   "cell_type": "code",
   "execution_count": 29,
   "metadata": {
    "ExecuteTime": {
     "end_time": "2016-10-29T17:27:45.907589",
     "start_time": "2016-10-29T17:27:45.903364"
    },
    "collapsed": false,
    "run_control": {
     "frozen": false,
     "read_only": false
    }
   },
   "outputs": [
    {
     "name": "stdout",
     "output_type": "stream",
     "text": [
      "The cypher extension is already loaded. To reload it, use:\n",
      "  %reload_ext cypher\n",
      "time: 1.1 ms\n"
     ]
    }
   ],
   "source": [
    "%load_ext cypher\n"
   ]
  },
  {
   "cell_type": "markdown",
   "metadata": {},
   "source": [
    "**Using sqlalchemy from notebook and convert to panda**\n"
   ]
  },
  {
   "cell_type": "code",
   "execution_count": 34,
   "metadata": {
    "ExecuteTime": {
     "end_time": "2016-10-29T17:28:27.485038",
     "start_time": "2016-10-29T17:28:27.449909"
    },
    "collapsed": false,
    "run_control": {
     "frozen": false,
     "read_only": false
    }
   },
   "outputs": [
    {
     "name": "stdout",
     "output_type": "stream",
     "text": [
      "The sql extension is already loaded. To reload it, use:\n",
      "  %reload_ext sql\n",
      "time: 32.9 ms\n"
     ]
    }
   ],
   "source": [
    "%config SqlMagic.autopandas = True\n",
    "%config SqlMagic.feedback = False\n",
    "%load_ext sql\n",
    "# conn_url =  %sql os.environ['JUPYTER_SQLALCHEMY_CONN_URL']\n"
   ]
  },
  {
   "cell_type": "code",
   "execution_count": 33,
   "metadata": {
    "ExecuteTime": {
     "end_time": "2016-10-29T17:28:10.000843",
     "start_time": "2016-10-29T17:28:09.997532"
    },
    "collapsed": false
   },
   "outputs": [
    {
     "name": "stdout",
     "output_type": "stream",
     "text": [
      "time: 657 µs\n"
     ]
    }
   ],
   "source": [
    "# df = %%sql\n",
    "# df.describe()"
   ]
  },
  {
   "cell_type": "code",
   "execution_count": 37,
   "metadata": {
    "ExecuteTime": {
     "end_time": "2016-10-29T17:34:54.124530",
     "start_time": "2016-10-29T17:34:54.121240"
    },
    "collapsed": false
   },
   "outputs": [
    {
     "name": "stdout",
     "output_type": "stream",
     "text": [
      "time: 623 µs\n"
     ]
    }
   ],
   "source": [
    "## Snippets"
   ]
  },
  {
   "cell_type": "markdown",
   "metadata": {},
   "source": [
    "**Print DataFrame from notebook **\n"
   ]
  },
  {
   "cell_type": "code",
   "execution_count": 39,
   "metadata": {
    "ExecuteTime": {
     "end_time": "2016-10-29T17:37:29.867626",
     "start_time": "2016-10-29T17:37:29.079244"
    },
    "collapsed": false
   },
   "outputs": [
    {
     "data": {
      "text/html": [
       "<link crossorigin=\"anonymous\" href=\"https://assets-cdn.github.com/assets/gist-embed-9ec60d02ee0eb30530c9c2d12055b82db581fbb13b64b807fd63df9cd276d21b.css\" media=\"all\" rel=\"stylesheet\" />\n",
       "<div id=\"gist40714452\" class=\"gist\">\n",
       "    <div class=\"gist-file\">\n",
       "      <div class=\"gist-data\">\n",
       "        <div class=\"js-gist-file-update-container js-task-list-container file-box\">\n",
       "  <div id=\"file-df_print\" class=\"file\">\n",
       "    \n",
       "\n",
       "  <div itemprop=\"text\" class=\"blob-wrapper data type-text\">\n",
       "      <table class=\"highlight tab-size js-file-line-container\" data-tab-size=\"8\">\n",
       "      <tr>\n",
       "        <td id=\"file-df_print-L1\" class=\"blob-num js-line-number\" data-line-number=\"1\"></td>\n",
       "        <td id=\"file-df_print-LC1\" class=\"blob-code blob-code-inner js-file-line\">HTML(df2.to_html())</td>\n",
       "      </tr>\n",
       "</table>\n",
       "\n",
       "  </div>\n",
       "\n",
       "  </div>\n",
       "  \n",
       "</div>\n",
       "\n",
       "      </div>\n",
       "      <div class=\"gist-meta\">\n",
       "        <a href=\"https://gist.github.com/eyaltrabelsi/6bca1cdcf574e16681daf91aa2da0529/raw/cbae8dc053f47274d28e49ca762ed81a0f335473/df_print\" style=\"float:right\">view raw</a>\n",
       "        <a href=\"https://gist.github.com/eyaltrabelsi/6bca1cdcf574e16681daf91aa2da0529#file-df_print\">df_print</a>\n",
       "        hosted with &#10084; by <a href=\"https://github.com\">GitHub</a>\n",
       "      </div>\n",
       "    </div>\n",
       "</div>\n",
       "\n"
      ],
      "text/plain": [
       "<IPython.core.display.HTML object>"
      ]
     },
     "execution_count": 39,
     "metadata": {},
     "output_type": "execute_result"
    },
    {
     "name": "stdout",
     "output_type": "stream",
     "text": [
      "time: 786 ms\n"
     ]
    }
   ],
   "source": [
    "from IPython.display import HTML\n",
    "HTML('https://gist.github.com/eyaltrabelsi/6bca1cdcf574e16681daf91aa2da0529.pibb')"
   ]
  },
  {
   "cell_type": "markdown",
   "metadata": {},
   "source": [
    "**how to write class which is represented nicely in notebook **\n"
   ]
  },
  {
   "cell_type": "code",
   "execution_count": 40,
   "metadata": {
    "ExecuteTime": {
     "end_time": "2016-10-29T17:42:06.562416",
     "start_time": "2016-10-29T17:42:05.702399"
    },
    "collapsed": false
   },
   "outputs": [
    {
     "data": {
      "text/html": [
       "<link crossorigin=\"anonymous\" href=\"https://assets-cdn.github.com/assets/gist-embed-9ec60d02ee0eb30530c9c2d12055b82db581fbb13b64b807fd63df9cd276d21b.css\" media=\"all\" rel=\"stylesheet\" />\n",
       "<div id=\"gist41381391\" class=\"gist\">\n",
       "    <div class=\"gist-file\">\n",
       "      <div class=\"gist-data\">\n",
       "        <div class=\"js-gist-file-update-container js-task-list-container file-box\">\n",
       "  <div id=\"file-_repr_html_\" class=\"file\">\n",
       "    \n",
       "\n",
       "  <div itemprop=\"text\" class=\"blob-wrapper data type-text\">\n",
       "      <table class=\"highlight tab-size js-file-line-container\" data-tab-size=\"8\">\n",
       "      <tr>\n",
       "        <td id=\"file-_repr_html_-L1\" class=\"blob-num js-line-number\" data-line-number=\"1\"></td>\n",
       "        <td id=\"file-_repr_html_-LC1\" class=\"blob-code blob-code-inner js-file-line\">class Foo(object):</td>\n",
       "      </tr>\n",
       "      <tr>\n",
       "        <td id=\"file-_repr_html_-L2\" class=\"blob-num js-line-number\" data-line-number=\"2\"></td>\n",
       "        <td id=\"file-_repr_html_-LC2\" class=\"blob-code blob-code-inner js-file-line\">    def __init__(self, value):</td>\n",
       "      </tr>\n",
       "      <tr>\n",
       "        <td id=\"file-_repr_html_-L3\" class=\"blob-num js-line-number\" data-line-number=\"3\"></td>\n",
       "        <td id=\"file-_repr_html_-LC3\" class=\"blob-code blob-code-inner js-file-line\">        self.value = value</td>\n",
       "      </tr>\n",
       "      <tr>\n",
       "        <td id=\"file-_repr_html_-L4\" class=\"blob-num js-line-number\" data-line-number=\"4\"></td>\n",
       "        <td id=\"file-_repr_html_-LC4\" class=\"blob-code blob-code-inner js-file-line\">    def _repr_html_(self):</td>\n",
       "      </tr>\n",
       "      <tr>\n",
       "        <td id=\"file-_repr_html_-L5\" class=\"blob-num js-line-number\" data-line-number=\"5\"></td>\n",
       "        <td id=\"file-_repr_html_-LC5\" class=\"blob-code blob-code-inner js-file-line\">        return &quot;&lt;p&gt;&lt;em&gt;This is the &lt;strong&gt;{0}&lt;/strong&gt; object&lt;/em&gt;!&lt;/p&gt;&quot;.format(self.value)</td>\n",
       "      </tr>\n",
       "</table>\n",
       "\n",
       "  </div>\n",
       "\n",
       "  </div>\n",
       "  \n",
       "</div>\n",
       "\n",
       "      </div>\n",
       "      <div class=\"gist-meta\">\n",
       "        <a href=\"https://gist.github.com/eyaltrabelsi/79ea4b212f02386f0c32ab90856684b9/raw/d24fbeae9b08f4985fac28120811c065507678b7/_repr_html_\" style=\"float:right\">view raw</a>\n",
       "        <a href=\"https://gist.github.com/eyaltrabelsi/79ea4b212f02386f0c32ab90856684b9#file-_repr_html_\">_repr_html_</a>\n",
       "        hosted with &#10084; by <a href=\"https://github.com\">GitHub</a>\n",
       "      </div>\n",
       "    </div>\n",
       "</div>\n",
       "\n"
      ],
      "text/plain": [
       "<IPython.core.display.HTML object>"
      ]
     },
     "execution_count": 40,
     "metadata": {},
     "output_type": "execute_result"
    },
    {
     "name": "stdout",
     "output_type": "stream",
     "text": [
      "time: 858 ms\n"
     ]
    }
   ],
   "source": [
    "from IPython.display import HTML\n",
    "HTML('https://gist.github.com/eyaltrabelsi/79ea4b212f02386f0c32ab90856684b9.pibb')\n"
   ]
  }
 ],
 "metadata": {
  "kernelspec": {
   "display_name": "Python 2",
   "language": "python",
   "name": "python2"
  },
  "language_info": {
   "codemirror_mode": {
    "name": "ipython",
    "version": 2
   },
   "file_extension": ".py",
   "mimetype": "text/x-python",
   "name": "python",
   "nbconvert_exporter": "python",
   "pygments_lexer": "ipython2",
   "version": "2.7.11"
  },
  "widgets": {
   "state": {
    "c3d1ff8078fc418eb199e67aabb53e34": {
     "views": [
      {
       "cell_index": 2
      }
     ]
    }
   },
   "version": "1.2.0"
  }
 },
 "nbformat": 4,
 "nbformat_minor": 1
}
