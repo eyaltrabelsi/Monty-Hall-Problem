{
 "cells": [
  {
   "cell_type": "code",
   "execution_count": 2,
   "metadata": {
    "ExecuteTime": {
     "end_time": "2016-10-29T21:57:07.753681",
     "start_time": "2016-10-29T21:57:06.991419"
    },
    "collapsed": false,
    "run_control": {
     "frozen": false,
     "read_only": false
    }
   },
   "outputs": [
    {
     "name": "stderr",
     "output_type": "stream",
     "text": [
      "2016-10-29 21:57:07,748 : INFO : 'pattern' package found; tag filters are available for English\n"
     ]
    }
   ],
   "source": [
    "import logging\n",
    "logging.basicConfig(format='%(asctime)s : %(levelname)s : %(message)s', level=logging.INFO)\n",
    "\n",
    "from gensim.summarization import summarize,keywords"
   ]
  },
  {
   "cell_type": "code",
   "execution_count": 18,
   "metadata": {
    "ExecuteTime": {
     "end_time": "2016-10-29T20:16:25.052681",
     "start_time": "2016-10-29T20:16:25.048538"
    },
    "collapsed": false,
    "run_control": {
     "frozen": false,
     "read_only": false
    }
   },
   "outputs": [],
   "source": [
    "text =  \"\"\"Thomas A. Anderson is a man living two lives. By day he is an \n",
    "        average computer programmer and by night a hacker known as \n",
    "        Neo. Neo has always questioned his reality, but the truth is \n",
    "        far beyond his imagination. Neo finds himself targeted by the \n",
    "        police when he is contacted by Morpheus, a legendary computer \n",
    "        hacker branded a terrorist by the government. Morpheus awakens \n",
    "        Neo to the real world, a ravaged wasteland where most of \n",
    "        humanity have been captured by a race of machines that live \n",
    "        off of the humans' body heat and electrochemical energy and \n",
    "        who imprison their minds within an artificial reality known as \n",
    "        the Matrix. As a rebel against the machines, Neo must return to \n",
    "        the Matrix and confront the agents: super-powerful computer \n",
    "        programs devoted to snuffing out Neo and the entire human \n",
    "        rebellion\"\"\""
   ]
  },
  {
   "cell_type": "code",
   "execution_count": 19,
   "metadata": {
    "ExecuteTime": {
     "end_time": "2016-10-29T20:16:26.185839",
     "start_time": "2016-10-29T20:16:25.787098"
    },
    "collapsed": false,
    "run_control": {
     "frozen": false,
     "read_only": false
    }
   },
   "outputs": [
    {
     "name": "stderr",
     "output_type": "stream",
     "text": [
      "2016-10-29 20:16:25,793 : INFO : adding document #0 to Dictionary(0 unique tokens: [])\n",
      "2016-10-29 20:16:25,794 : INFO : built Dictionary(53 unique tokens: [u'electrochem', u'machin', u'captur', u'mind', u'agent']...) from 19 documents (total 68 corpus positions)\n",
      "2016-10-29 20:16:25,803 : INFO : adding document #0 to Dictionary(0 unique tokens: [])\n",
      "2016-10-29 20:16:25,806 : INFO : built Dictionary(53 unique tokens: [u'electrochem', u'machin', u'captur', u'mind', u'agent']...) from 19 documents (total 68 corpus positions)\n",
      "2016-10-29 20:16:25,818 : INFO : adding document #0 to Dictionary(0 unique tokens: [])\n",
      "2016-10-29 20:16:25,819 : INFO : built Dictionary(53 unique tokens: [u'electrochem', u'machin', u'captur', u'mind', u'agent']...) from 19 documents (total 68 corpus positions)\n"
     ]
    },
    {
     "name": "stdout",
     "output_type": "stream",
     "text": [
      "Summary:\n",
      "average computer programmer and by night a hacker known as \n",
      "who imprison their minds within an artificial reality known as \n",
      "programs devoted to snuffing out Neo and the entire human \n",
      "\n",
      "\n",
      "Summary half the size:\n",
      "average computer programmer and by night a hacker known as \n",
      "police when he is contacted by Morpheus, a legendary computer \n",
      "Morpheus awakens \n",
      "humanity have been captured by a race of machines that live \n",
      "who imprison their minds within an artificial reality known as \n",
      "the Matrix.\n",
      "As a rebel against the machines, Neo must return to \n",
      "the Matrix and confront the agents: super-powerful computer \n",
      "programs devoted to snuffing out Neo and the entire human \n",
      "\n",
      "\n",
      "Summary 50 words:\n",
      "average computer programmer and by night a hacker known as \n",
      "humanity have been captured by a race of machines that live \n",
      "who imprison their minds within an artificial reality known as \n",
      "As a rebel against the machines, Neo must return to \n",
      "programs devoted to snuffing out Neo and the entire human \n",
      "Keywords:\n",
      "humanity\n",
      "human\n",
      "humans body\n",
      "super\n",
      "electrochemical\n"
     ]
    }
   ],
   "source": [
    "print('Summary:')\n",
    "print(summarize(text))\n",
    "print ('\\n\\nSummary half the size:')\n",
    "print (summarize(text, ratio=0.5))\n",
    "print ('\\n\\nSummary 50 words:')\n",
    "print (summarize(text, word_count=50))\n",
    "print ('\\n\\nKeywords:')\n",
    "print (keywords(text))"
   ]
  },
  {
   "cell_type": "code",
   "execution_count": 5,
   "metadata": {
    "ExecuteTime": {
     "end_time": "2016-10-29T21:57:54.277236",
     "start_time": "2016-10-29T21:57:54.244263"
    },
    "collapsed": false,
    "run_control": {
     "frozen": false,
     "read_only": false
    }
   },
   "outputs": [
    {
     "name": "stderr",
     "output_type": "stream",
     "text": [
      "2016-10-29 21:57:54,255 : INFO : adding document #0 to Dictionary(0 unique tokens: [])\n",
      "2016-10-29 21:57:54,257 : INFO : built Dictionary(153 unique tokens: [u'represent', u'manifold', u'insight', u'essai', u'held']...) from 30 documents (total 241 corpus positions)\n"
     ]
    },
    {
     "name": "stdout",
     "output_type": "stream",
     "text": [
      "I think it is very likely that, reflecting back in 30 years, we will see deep learning very differently.\n",
      "If we think we’ll probably see deep learning very differently in 30 years, that suggests an interesting question: how are we going to see it?\n",
      "At present, three narratives are competing to be the way we understand deep learning.\n",
      "These narratives aren’t mutually exclusive, but they do present very different ways of thinking about deep learning.\n",
      "This essay extends the representations narrative to a new answer: deep learning studies a connection between optimization and functional programming.\n",
      "In this view, the representations narrative in deep learning corresponds to type theory in functional programming.\n"
     ]
    }
   ],
   "source": [
    "txt =\"\"\"Deep learning, despite its remarkable successes, is a young field. While models called artificial neural networks have been studied for decades, much of that work seems only tenuously connected to modern results.\n",
    "It’s often the case that young fields start in a very ad-hoc manner. Later, the mature field is understood very differently than it was understood by its early practitioners. For example, in taxonomy, people have grouped plants and animals for thousands of years, but the way we understood what we were doing changed a lot in light of evolution and molecular biology. In chemistry, we have explored chemical reactions for a long time, but what we understood ourselves to do changed a lot with the discovery of irreducible elements, and again later with models of the atom. Those are grandiose examples, but the history of science and mathematics has seen this pattern again and again, on many different scales.\n",
    "It seems quite likely that deep learning is in this ad-hoc state.\n",
    "At the moment, deep learning is held together by an extremely successful tool. This tool doesn’t seem fundamental; it’s something we’ve stumbled on, with seemingly arbitrary details that change regularly. As a field, we don’t yet have some unifying insight or shared understanding. In fact, the field has several competing narratives!\n",
    "I think it is very likely that, reflecting back in 30 years, we will see deep learning very differently.\n",
    "If we think we’ll probably see deep learning very differently in 30 years, that suggests an interesting question: how are we going to see it? Of course, no one can actually know how we’ll come to understand the field. But it is interesting to speculate.\n",
    "At present, three narratives are competing to be the way we understand deep learning. There’s the neuroscience narrative, drawing analogies to biology. There’s the representations narrative, centered on transformations of data and the manifold hypothesis. Finally, there’s a probabilistic narrative, which interprets neural networks as finding latent variables. These narratives aren’t mutually exclusive, but they do present very different ways of thinking about deep learning.\n",
    "This essay extends the representations narrative to a new answer: deep learning studies a connection between optimization and functional programming.\n",
    "In this view, the representations narrative in deep learning corresponds to type theory in functional programming. It sees deep learning as the junction of two fields we already know to be incredibly rich. What we find, seems so beautiful to me, feels so natural, that the mathematician in me could believe it to be something fundamental about reality.\n",
    "This is an extremely speculative idea. I am not arguing that it is true. I wish to argue only that it is plausible, that one could imagine deep learning evolving in this direction. To be clear: I am primarily making an aesthetic argument, rather than an argument of fact. I wish to show that this is a natural and elegant idea, encompassing what we presently call deep learning.\"\"\"\n",
    "print(summarize(txt))\n"
   ]
  },
  {
   "cell_type": "code",
   "execution_count": null,
   "metadata": {
    "collapsed": true
   },
   "outputs": [],
   "source": []
  }
 ],
 "metadata": {
  "kernelspec": {
   "display_name": "Python 2",
   "language": "python",
   "name": "python2"
  },
  "language_info": {
   "codemirror_mode": {
    "name": "ipython",
    "version": 2
   },
   "file_extension": ".py",
   "mimetype": "text/x-python",
   "name": "python",
   "nbconvert_exporter": "python",
   "pygments_lexer": "ipython2",
   "version": "2.7.11"
  }
 },
 "nbformat": 4,
 "nbformat_minor": 1
}
