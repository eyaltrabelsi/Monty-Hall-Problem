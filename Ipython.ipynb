{
 "cells": [
  {
   "cell_type": "markdown",
   "metadata": {
    "run_control": {
     "frozen": false,
     "read_only": false
    }
   },
   "source": [
    "# Ipython "
   ]
  },
  {
   "cell_type": "markdown",
   "metadata": {
    "run_control": {
     "frozen": false,
     "read_only": false
    }
   },
   "source": [
    "### General"
   ]
  },
  {
   "cell_type": "markdown",
   "metadata": {
    "collapsed": true,
    "run_control": {
     "frozen": false,
     "read_only": false
    }
   },
   "source": [
    "- One should format his notebook names like this (date)-(developer)-(2-word-desc)\n",
    "- IPython Notebook best practices for data science](https://www.youtube.com/watch?v=JI1HWUAyJHE\n",
    "- Make Jupyter/IPython Notebook even more magical with cell magic extensions https://www.youtube.com/watch?v=zxkdO07L29Q)"
   ]
  },
  {
   "cell_type": "markdown",
   "metadata": {
    "ExecuteTime": {
     "end_time": "2016-10-29T17:32:00.337830",
     "start_time": "2016-10-29T17:32:00.334129"
    },
    "run_control": {
     "frozen": false,
     "read_only": false
    }
   },
   "source": [
    "### User interaction"
   ]
  },
  {
   "cell_type": "markdown",
   "metadata": {
    "ExecuteTime": {
     "end_time": "2016-10-29T17:27:34.994182",
     "start_time": "2016-10-29T17:27:34.931437"
    },
    "collapsed": false,
    "run_control": {
     "frozen": false,
     "read_only": false
    }
   },
   "source": [
    "- https://github.com/ipython/ipywidgets"
   ]
  },
  {
   "cell_type": "markdown",
   "metadata": {},
   "source": [
    "### Analytics"
   ]
  },
  {
   "cell_type": "markdown",
   "metadata": {
    "ExecuteTime": {
     "end_time": "2016-12-24T23:36:25.644478",
     "start_time": "2016-12-24T23:36:25.640105"
    },
    "collapsed": false,
    "run_control": {
     "frozen": false,
     "read_only": false
    }
   },
   "source": [
    "- create pivottables on dataframe using https://github.com/nicolaskruchten/pivottable\n",
    "- Declarative statistical visualization library for Python using https://github.com/altair-viz/altair\n",
    "- Convert the data to dataframe and use excel like features on the data using https://github.com/quantopian/qgrid"
   ]
  },
  {
   "cell_type": "markdown",
   "metadata": {
    "ExecuteTime": {
     "end_time": "2016-10-29T17:33:41.598621",
     "start_time": "2016-10-29T17:33:41.594514"
    },
    "run_control": {
     "frozen": false,
     "read_only": false
    }
   },
   "source": [
    "### notebook enhancement And tools"
   ]
  },
  {
   "cell_type": "markdown",
   "metadata": {
    "run_control": {
     "frozen": false,
     "read_only": false
    }
   },
   "source": [
    "- adding more power into notebooks https://github.com/ipython-contrib/jupyter_contrib_nbextensions\n",
    "- make ipython notebook into slides using https://www.youtube.com/watch?v=sZBKruEh0jI\n",
    "- Turn a GitHub repo into a collection of interactive notebooks using http://mybinder.org/\n"
   ]
  },
  {
   "cell_type": "markdown",
   "metadata": {},
   "source": [
    "### Profiling"
   ]
  },
  {
   "cell_type": "markdown",
   "metadata": {
    "ExecuteTime": {
     "end_time": "2016-10-29T17:27:44.463367",
     "start_time": "2016-10-29T17:27:44.458743"
    },
    "collapsed": false,
    "run_control": {
     "frozen": false,
     "read_only": false
    }
   },
   "source": [
    "- timing every ipyhthon cell using https://github.com/cpcloud/ipython-autotime\n",
    "- profiling ipython notebook cell https://github.com/jiffyclub/snakeviz"
   ]
  },
  {
   "cell_type": "markdown",
   "metadata": {
    "ExecuteTime": {
     "end_time": "2016-12-24T23:32:15.509392",
     "start_time": "2016-12-24T23:32:15.506531"
    }
   },
   "source": [
    "### Aquiring Data"
   ]
  },
  {
   "cell_type": "markdown",
   "metadata": {
    "ExecuteTime": {
     "end_time": "2016-10-29T17:28:27.485038",
     "start_time": "2016-10-29T17:28:27.449909"
    },
    "collapsed": false,
    "run_control": {
     "frozen": false,
     "read_only": false
    }
   },
   "source": [
    "- aquire data from db supported by sqlalchemy using https://github.com/catherinedevlin/ipython-sql\n",
    "- aquire data from neo4j using https://github.com/versae/ipython-cypher\n",
    "- aquire data from website using https://github.com/Psycojoker/ipython-beautifulsoup\n",
    "- aquire data from salesforce using https://github.com/eyaltrabelsi/salesforce_magic"
   ]
  },
  {
   "cell_type": "markdown",
   "metadata": {
    "ExecuteTime": {
     "end_time": "2016-10-29T17:34:54.124530",
     "start_time": "2016-10-29T17:34:54.121240"
    },
    "collapsed": false,
    "run_control": {
     "frozen": false,
     "read_only": false
    }
   },
   "source": [
    "### Snippets"
   ]
  },
  {
   "cell_type": "markdown",
   "metadata": {
    "ExecuteTime": {
     "end_time": "2016-10-29T17:37:29.867626",
     "start_time": "2016-10-29T17:37:29.079244"
    },
    "collapsed": false,
    "run_control": {
     "frozen": false,
     "read_only": false
    }
   },
   "source": [
    "- Print DataFrame from notebook using https://gist.github.com/eyaltrabelsi/6bca1cdcf574e16681daf91aa2da0529.pibb\n",
    "- how to write class which is represented nicely in notebook using https://gist.github.com/eyaltrabelsi/79ea4b212f02386f0c32ab90856684b9.pibb"
   ]
  },
  {
   "cell_type": "markdown",
   "metadata": {
    "ExecuteTime": {
     "end_time": "2016-12-24T23:43:38.250729",
     "start_time": "2016-12-24T23:43:38.246126"
    }
   },
   "source": [
    "<br/><br/><img src='resources/ipython.jpeg' width=520 align=\"left\"></img><br/><br/>"
   ]
  }
 ],
 "metadata": {
  "kernelspec": {
   "display_name": "Python 2",
   "language": "python",
   "name": "python2"
  },
  "language_info": {
   "codemirror_mode": {
    "name": "ipython",
    "version": 2
   },
   "file_extension": ".py",
   "mimetype": "text/x-python",
   "name": "python",
   "nbconvert_exporter": "python",
   "pygments_lexer": "ipython2",
   "version": "2.7.11"
  }
 },
 "nbformat": 4,
 "nbformat_minor": 1
}
