{
 "cells": [
  {
   "cell_type": "code",
   "execution_count": 6,
   "metadata": {},
   "outputs": [],
   "source": [
    "import pickle\n",
    "import nmslib"
   ]
  },
  {
   "cell_type": "code",
   "execution_count": 7,
   "metadata": {},
   "outputs": [
    {
     "data": {
      "text/plain": [
       "{'name': array(['Toy Story (1995)', 'GoldenEye (1995)', 'Four Rooms (1995)', ...,\n",
       "        'Sliding Doors (1998)', 'You So Crazy (1994)',\n",
       "        'Scream of Stone (Schrei aus Stein) (1991)'], dtype=object),\n",
       " 'vector': array([[-0.01780608, -0.14265831,  0.10308606, ...,  0.09659795,\n",
       "         -0.17529577, -0.03061521],\n",
       "        [-0.03357764,  0.16418771,  0.21801303, ...,  0.16502103,\n",
       "         -0.09166156,  0.05047869],\n",
       "        [-0.2761452 , -0.01991325, -0.04969981, ...,  0.0258275 ,\n",
       "         -0.08328608, -0.0152858 ],\n",
       "        ...,\n",
       "        [ 0.05142734, -0.01683608, -0.20441587, ...,  0.00045828,\n",
       "          0.14679626,  0.2462584 ],\n",
       "        [ 0.04491899, -0.02819411, -0.09472758, ..., -0.02152078,\n",
       "          0.16223577,  0.19897607],\n",
       "        [ 0.02531924,  0.03099714,  0.06437534, ..., -0.07260127,\n",
       "          0.0467432 ,  0.07893164]], dtype=float32)}"
      ]
     },
     "execution_count": 7,
     "metadata": {},
     "output_type": "execute_result"
    }
   ],
   "source": [
    "def load_data():\n",
    "    with open('movies.pickle', 'rb') as f:\n",
    "        data = pickle.load(f)\n",
    "    return data\n",
    "\n",
    "data = load_data()\n",
    "data"
   ]
  },
  {
   "cell_type": "code",
   "execution_count": 17,
   "metadata": {},
   "outputs": [],
   "source": [
    "class NMSLIBIndex():\n",
    "    def __init__(self, vectors, labels):\n",
    "        self.dimention = vectors.shape[1]\n",
    "        self.vectors = vectors.astype('float32')\n",
    "        self.labels = labels\n",
    "\n",
    "    def build(self):\n",
    "        self.index = nmslib.init(method='hnsw', space='cosinesimil')\n",
    "        self.index.addDataPointBatch(self.vectors)\n",
    "        self.index.createIndex({'post': 2})\n",
    "        \n",
    "    def query(self, vector, k=10):\n",
    "        indices = self.index.knnQuery(vector, k=k)\n",
    "        return [self.labels[i] for i in indices[0]]"
   ]
  },
  {
   "cell_type": "code",
   "execution_count": 18,
   "metadata": {},
   "outputs": [],
   "source": [
    "index = NMSLIBIndex(data[\"vector\"], data[\"name\"])\n",
    "index.build()"
   ]
  },
  {
   "cell_type": "code",
   "execution_count": 20,
   "metadata": {},
   "outputs": [
    {
     "name": "stdout",
     "output_type": "stream",
     "text": [
      "The most similar movies to Nightmare Before Christmas, The (1993) are:\n",
      "* Nightmare Before Christmas, The (1993)\n",
      "* Beauty and the Beast (1991)\n",
      "* Fantasia (1940)\n",
      "* Heavy Metal (1981)\n",
      "* Aladdin (1992)\n",
      "* Snow White and the Seven Dwarfs (1937)\n",
      "* Batman (1989)\n",
      "* James and the Giant Peach (1996)\n",
      "* Blade Runner (1982)\n",
      "* Aliens (1986)\n"
     ]
    }
   ],
   "source": [
    "movie_vector, movie_name = data['vector'][90], data['name'][90]\n",
    "simlar_movies_names = '\\n* '.join(index.query(movie_vector))\n",
    "print(f\"The most similar movies to {movie_name} are:\\n* {simlar_movies_names}\")"
   ]
  }
 ],
 "metadata": {
  "kernelspec": {
   "display_name": "Python 3",
   "language": "python",
   "name": "python3"
  },
  "language_info": {
   "codemirror_mode": {
    "name": "ipython",
    "version": 3
   },
   "file_extension": ".py",
   "mimetype": "text/x-python",
   "name": "python",
   "nbconvert_exporter": "python",
   "pygments_lexer": "ipython3",
   "version": "3.7.4"
  }
 },
 "nbformat": 4,
 "nbformat_minor": 2
}
