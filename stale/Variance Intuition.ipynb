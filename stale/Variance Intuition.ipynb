{
 "cells": [
  {
   "cell_type": "markdown",
   "metadata": {},
   "source": [
    "# Variance & Standart Deviation Intuition\n"
   ]
  },
  {
   "cell_type": "markdown",
   "metadata": {},
   "source": [
    "### Variance definition\n",
    "$$Var(X)=\\frac{\\sum_{i=1}^{n}(x_i - \\mu)^2} {n}$$\n",
    "\n",
    "\n",
    "### Standard deviation definition\n",
    "$$a = \\sqrt{\\frac{\\sum_{i=1}^{n}(x_i - \\mu)^2} {n}}$$\n",
    "\n",
    "### What they  both measure:\n",
    "   * measures that are used to quantify the amount of variation or dispersion \n",
    "     of a set of data values. A low value indicates that the data points tend to be\n",
    "     close to the mean of the set, while a value indicates that the data points\n",
    "     are spread out over a wider range of values\n",
    "   * they can indicate \"distance from the mean\" (the amount by which XX tends\n",
    "     to deviate from the average value).\n",
    "   * **Unformal** Measure the amount of information in the data set. For Example,\n",
    "     lets say my data is the height of k people with X variance and want to account their sex with Y variance.\n",
    "     The \"unexplained variance\"  is equal to X-Y. If you know everyone's sex, you can make\n",
    "     educated predictions of what their height will be. The sex gives you information about\n",
    "     their heights. But it doesn't give you all the information, you're still missing X-Y variance.\n",
    "\n"
   ]
  },
  {
   "cell_type": "markdown",
   "metadata": {},
   "source": [
    "\n",
    "\n"
   ]
  },
  {
   "cell_type": "markdown",
   "metadata": {},
   "source": [
    "### Why the meaning of the equition\n",
    "** If the goal is to summarise the spread then we need a good method of defining how to measure that spread, a good place to start is to quanity spread using distance.**\n",
    "\n",
    "<img src=></img>"
   ]
  },
  {
   "cell_type": "markdown",
   "metadata": {},
   "source": [
    "\n",
    "* It easy to see that it hold the eucleadian distance AKA  $${(x_i - \\mu)^2}$$ \n",
    "  * Why eaculidian distance?\n",
    "    * Squaring is always positive.\n",
    "    * Squaring emphasizes larger differences - emphasize extremes for the good and bad\n",
    "    * Easy math\n",
    "* It easy to see that we Averaging the distances $$\\frac{\\sum_{i=1}^{n}(distance)} {n}$$\n",
    "  * add about this http://stats.stackexchange.com/questions/3931/intuitive-explanation-for-dividing-by-n-1-when-calculating-standard-deviation\n",
    "\n",
    "\n"
   ]
  },
  {
   "cell_type": "markdown",
   "metadata": {
    "collapsed": true
   },
   "source": [
    "### Why having Both\n",
    "   * **Variance:** \n",
    "        * Variances is addative. That means that if you take many samples independently \n",
    "          from the same distribution, the variance of their sum grows linearly in the number\n",
    "          of samples. Understanding it also allows you to understand covariance and correlation.\n",
    "          For instance, if you have some trait like IQ you can perform a twin study and conclude \n",
    "          that 75% of the variance is due to genetics. Neatly, this means that 25% of the variance is due to \n",
    "          something(s) other than genetics. \n",
    "        * Easier math for theories\n",
    "\n",
    "   * **Standard deviation:**\n",
    "        * expressed in the same units as the mean is."
   ]
  },
  {
   "cell_type": "markdown",
   "metadata": {},
   "source": [
    "### Good graph explanations\n"
   ]
  },
  {
   "cell_type": "markdown",
   "metadata": {},
   "source": [
    "\n"
   ]
  },
  {
   "cell_type": "code",
   "execution_count": 9,
   "metadata": {
    "collapsed": false
   },
   "outputs": [
    {
     "data": {
      "text/html": [
       "<img src=\"http://www.stepbystep.com/wp-content/uploads/2013/05/Difference-between-Variance-and-Covariance-Variance.jpg\"/>"
      ],
      "text/plain": [
       "<IPython.core.display.Image object>"
      ]
     },
     "metadata": {},
     "output_type": "display_data"
    },
    {
     "data": {
      "text/html": [
       "<img src=\"http://blog.fliptop.com/wp-content/uploads/2015/01/Bias_Variance.jpg\"/>"
      ],
      "text/plain": [
       "<IPython.core.display.Image object>"
      ]
     },
     "metadata": {},
     "output_type": "display_data"
    }
   ],
   "source": [
    "variance_graphs = [\n",
    "    'http://www.stepbystep.com/wp-content/uploads/2013/05/Difference-between-Variance-and-Covariance-Variance.jpg',\n",
    "    'http://blog.fliptop.com/wp-content/uploads/2015/01/Bias_Variance.jpg']\n",
    "\n",
    "for graph in variance_graphs:\n",
    "    display(Image(url=graph))\n"
   ]
  }
 ],
 "metadata": {
  "kernelspec": {
   "display_name": "Python 2",
   "language": "python",
   "name": "python2"
  },
  "language_info": {
   "codemirror_mode": {
    "name": "ipython",
    "version": 2
   },
   "file_extension": ".py",
   "mimetype": "text/x-python",
   "name": "python",
   "nbconvert_exporter": "python",
   "pygments_lexer": "ipython2",
   "version": "2.7.11"
  }
 },
 "nbformat": 4,
 "nbformat_minor": 0
}
