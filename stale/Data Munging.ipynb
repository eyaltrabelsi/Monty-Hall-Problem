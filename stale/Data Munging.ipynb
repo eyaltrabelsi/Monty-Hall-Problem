{
 "cells": [
  {
   "cell_type": "markdown",
   "metadata": {
    "run_control": {
     "frozen": false,
     "read_only": false
    }
   },
   "source": [
    "# Data Munging"
   ]
  },
  {
   "cell_type": "markdown",
   "metadata": {
    "ExecuteTime": {
     "end_time": "2016-12-24T23:18:33.461576",
     "start_time": "2016-12-24T23:18:33.456396"
    },
    "run_control": {
     "frozen": false,
     "read_only": false
    }
   },
   "source": [
    "- Data Munging\n",
    "    - Missing values\n",
    "    - Data Enrichments\n",
    "    - Data Melting\n",
    "    - Clean unicode\n",
    "    - Feature Engineering and Variables Transformations \n",
    "\n",
    "- Model builtding\n",
    "    - Data encoding\n",
    "    - Feature scaling\n",
    "    - Feature Selections\n",
    "\n"
   ]
  },
  {
   "cell_type": "markdown",
   "metadata": {
    "ExecuteTime": {
     "end_time": "2016-12-24T23:04:56.797072",
     "start_time": "2016-12-24T23:04:56.790884"
    },
    "run_control": {
     "frozen": false,
     "read_only": false
    }
   },
   "source": [
    "\n",
    "<br/><br/><img src='resources/data_munging.jpeg' width=360 align=\"left\"></img><br/><br/>\n"
   ]
  },
  {
   "cell_type": "markdown",
   "metadata": {
    "run_control": {
     "frozen": false,
     "read_only": false
    }
   },
   "source": [
    "## Missing Values\n"
   ]
  },
  {
   "cell_type": "markdown",
   "metadata": {
    "run_control": {
     "frozen": false,
     "read_only": false
    }
   },
   "source": [
    "- [missing values](http://analyticsdataexploration.com/missing-value-analysis-on-titanic-data-set-using-python/)\n",
    "- [imputation](https://github.com/rhiever/datacleaner)\n",
    "    \n",
    "<br/><br/><img src='resources/missing_data.jpeg' width=300 align=\"left\"></img><br/><br/>\n"
   ]
  },
  {
   "cell_type": "markdown",
   "metadata": {
    "run_control": {
     "frozen": false,
     "read_only": false
    }
   },
   "source": [
    "## Variable Transformations and Feature engineering\n"
   ]
  },
  {
   "cell_type": "markdown",
   "metadata": {
    "run_control": {
     "frozen": false,
     "read_only": false
    }
   },
   "source": [
    "- [text transfomations](https://www.analyticsvidhya.com/blog/2014/11/text-data-cleaning-steps-python/)\n",
    "- add sentiment\n",
    "- [Fixing encoding](https://github.com/LuminosoInsight/python-ftfy)\n",
    "- [email validation](http://stackoverflow.com/questions/8022530/python-check-for-valid-email-address)\n",
    "- [parsing usa address into its](https://github.com/datamade/usaddress)\n",
    "- [parsing and phone numbers](https://github.com/daviddrysdale/python-phonenumbers)\n",
    "- [parsing names into name components](https://github.com/datamade/probablepeople)\n",
    "- [parsing user agent into its components](https://github.com/selwin/python-user-agents)\n",
    "- [parsing url into its url components](https://github.com/unshiftio/url-parse)\n"
   ]
  },
  {
   "cell_type": "markdown",
   "metadata": {
    "run_control": {
     "frozen": false,
     "read_only": false
    }
   },
   "source": [
    "## Data enrichment"
   ]
  },
  {
   "cell_type": "markdown",
   "metadata": {
    "run_control": {
     "frozen": false,
     "read_only": false
    }
   },
   "source": [
    "\n",
    "- [parsing name into gender](https://github.com/ferhatelmas/sexmachine)\n",
    "- [parsing ip into location components](https://github.com/maxmind/geoip-api-python)\n",
    "\n",
    "<br/><br/><img src='resources/data_enrichment.jpeg' width=360 align=\"left\"></img><br/><br/>\n"
   ]
  }
 ],
 "metadata": {
  "kernelspec": {
   "display_name": "Python 2",
   "language": "python",
   "name": "python2"
  },
  "language_info": {
   "codemirror_mode": {
    "name": "ipython",
    "version": 2
   },
   "file_extension": ".py",
   "mimetype": "text/x-python",
   "name": "python",
   "nbconvert_exporter": "python",
   "pygments_lexer": "ipython2",
   "version": "2.7.11"
  }
 },
 "nbformat": 4,
 "nbformat_minor": 1
}
